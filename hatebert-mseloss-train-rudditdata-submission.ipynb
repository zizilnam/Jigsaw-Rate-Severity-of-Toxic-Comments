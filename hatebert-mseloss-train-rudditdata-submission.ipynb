{
 "cells": [
  {
   "cell_type": "code",
   "execution_count": 1,
   "id": "dea794d3",
   "metadata": {
    "_cell_guid": "b1076dfc-b9ad-4769-8c92-a6c4dae69d19",
    "_uuid": "8f2839f25d086af736a60e9eeb907d3b93b6e0e5",
    "execution": {
     "iopub.execute_input": "2021-12-09T16:33:49.004085Z",
     "iopub.status.busy": "2021-12-09T16:33:48.997708Z",
     "iopub.status.idle": "2021-12-09T16:33:59.307907Z",
     "shell.execute_reply": "2021-12-09T16:33:59.309550Z",
     "shell.execute_reply.started": "2021-12-09T06:05:50.520037Z"
    },
    "papermill": {
     "duration": 10.345088,
     "end_time": "2021-12-09T16:33:59.310086",
     "exception": false,
     "start_time": "2021-12-09T16:33:48.964998",
     "status": "completed"
    },
    "tags": []
   },
   "outputs": [],
   "source": [
    "import os\n",
    "import gc\n",
    "import copy\n",
    "import re\n",
    "import time\n",
    "import random\n",
    "import string\n",
    "import warnings\n",
    "warnings.filterwarnings(\"ignore\")\n",
    "os.environ['CUDA_LAUNCH_BLOCKING'] = \"1\"\n",
    "\n",
    "import numpy as np\n",
    "import pandas as pd\n",
    "\n",
    "import torch\n",
    "import torch.nn as nn\n",
    "import torch.nn.functional as F\n",
    "import torch.optim as optim \n",
    "from torch.optim import lr_scheduler\n",
    "from torch.utils.data import Dataset, DataLoader\n",
    "\n",
    "import copy\n",
    "from copy import deepcopy\n",
    "\n",
    "\n",
    "from tqdm import tqdm\n",
    "from collections import defaultdict\n",
    "\n",
    "from bs4 import BeautifulSoup\n",
    "\n",
    "import nltk\n",
    "# from nltk.stem import SnowballStemmer, WordNetLemmatizer\n",
    "from nltk.stem.snowball import SnowballStemmer\n",
    "from nltk.stem.wordnet import WordNetLemmatizer\n",
    "\n",
    "from sklearn.metrics import mean_squared_error\n",
    "from sklearn.model_selection import StratifiedKFold, KFold\n",
    "\n",
    "from transformers import AutoTokenizer, AutoModel, AdamW\n",
    "\n",
    "from colorama import Fore, Back, Style\n",
    "b_ = Fore.BLUE\n",
    "y_ = Fore.YELLOW\n",
    "sr_ = Style.RESET_ALL"
   ]
  },
  {
   "cell_type": "markdown",
   "id": "b3c70062",
   "metadata": {
    "papermill": {
     "duration": 0.048358,
     "end_time": "2021-12-09T16:33:59.419325",
     "exception": false,
     "start_time": "2021-12-09T16:33:59.370967",
     "status": "completed"
    },
    "tags": []
   },
   "source": [
    "# CONFIG"
   ]
  },
  {
   "cell_type": "code",
   "execution_count": 2,
   "id": "5b9fe411",
   "metadata": {
    "execution": {
     "iopub.execute_input": "2021-12-09T16:33:59.577167Z",
     "iopub.status.busy": "2021-12-09T16:33:59.575959Z",
     "iopub.status.idle": "2021-12-09T16:33:59.938270Z",
     "shell.execute_reply": "2021-12-09T16:33:59.937626Z",
     "shell.execute_reply.started": "2021-12-09T06:05:58.297481Z"
    },
    "papermill": {
     "duration": 0.472826,
     "end_time": "2021-12-09T16:33:59.938427",
     "exception": false,
     "start_time": "2021-12-09T16:33:59.465601",
     "status": "completed"
    },
    "tags": []
   },
   "outputs": [],
   "source": [
    "CONFIG = dict(\n",
    "    seed = 42,\n",
    "#     model_name = '../input/dislike-friends-part3/Hate-speech-CNERG/bert-base-uncased-hatexplain',\n",
    "    model_name = '../input/dislike-friends-eng-all/GroNLP/hateBERT',\n",
    "    test_batch_size = 64,\n",
    "    max_length = 128,\n",
    "    num_classes = 1,\n",
    "    device = torch.device(\"cuda:0\" if torch.cuda.is_available() else \"cpu\")\n",
    ")\n",
    "\n",
    "\n",
    "CONFIG[\"tokenizer\"] = AutoTokenizer.from_pretrained(CONFIG['model_name'])"
   ]
  },
  {
   "cell_type": "markdown",
   "id": "002906ff",
   "metadata": {
    "papermill": {
     "duration": 0.025819,
     "end_time": "2021-12-09T16:33:59.992369",
     "exception": false,
     "start_time": "2021-12-09T16:33:59.966550",
     "status": "completed"
    },
    "tags": []
   },
   "source": [
    "# Random Seed"
   ]
  },
  {
   "cell_type": "code",
   "execution_count": 3,
   "id": "633bf24a",
   "metadata": {
    "execution": {
     "iopub.execute_input": "2021-12-09T16:34:00.052817Z",
     "iopub.status.busy": "2021-12-09T16:34:00.051957Z",
     "iopub.status.idle": "2021-12-09T16:34:00.057687Z",
     "shell.execute_reply": "2021-12-09T16:34:00.058234Z",
     "shell.execute_reply.started": "2021-12-09T06:05:58.635269Z"
    },
    "papermill": {
     "duration": 0.039522,
     "end_time": "2021-12-09T16:34:00.058405",
     "exception": false,
     "start_time": "2021-12-09T16:34:00.018883",
     "status": "completed"
    },
    "tags": []
   },
   "outputs": [],
   "source": [
    "def set_seed(seed = 42):\n",
    "    np.random.seed(seed)\n",
    "    torch.manual_seed(seed)\n",
    "    torch.cuda.manual_seed(seed)\n",
    "    torch.backends.cudnn.deteministic = True\n",
    "    torch.backends.cudnn.benchmark = False\n",
    "    os.environ['PYTHONHASHSEED'] = str(seed)\n",
    "\n",
    "set_seed(CONFIG['seed'])"
   ]
  },
  {
   "cell_type": "markdown",
   "id": "6d48e7f3",
   "metadata": {
    "papermill": {
     "duration": 0.026596,
     "end_time": "2021-12-09T16:34:00.112434",
     "exception": false,
     "start_time": "2021-12-09T16:34:00.085838",
     "status": "completed"
    },
    "tags": []
   },
   "source": [
    "# Data"
   ]
  },
  {
   "cell_type": "code",
   "execution_count": 4,
   "id": "1b8133f7",
   "metadata": {
    "execution": {
     "iopub.execute_input": "2021-12-09T16:34:00.172668Z",
     "iopub.status.busy": "2021-12-09T16:34:00.171557Z",
     "iopub.status.idle": "2021-12-09T16:34:00.297305Z",
     "shell.execute_reply": "2021-12-09T16:34:00.297852Z",
     "shell.execute_reply.started": "2021-12-09T06:05:58.647843Z"
    },
    "papermill": {
     "duration": 0.158292,
     "end_time": "2021-12-09T16:34:00.298048",
     "exception": false,
     "start_time": "2021-12-09T16:34:00.139756",
     "status": "completed"
    },
    "tags": []
   },
   "outputs": [
    {
     "name": "stdout",
     "output_type": "stream",
     "text": [
      "(7537, 2)\n",
      "\n"
     ]
    },
    {
     "data": {
      "text/html": [
       "<div>\n",
       "<style scoped>\n",
       "    .dataframe tbody tr th:only-of-type {\n",
       "        vertical-align: middle;\n",
       "    }\n",
       "\n",
       "    .dataframe tbody tr th {\n",
       "        vertical-align: top;\n",
       "    }\n",
       "\n",
       "    .dataframe thead th {\n",
       "        text-align: right;\n",
       "    }\n",
       "</style>\n",
       "<table border=\"1\" class=\"dataframe\">\n",
       "  <thead>\n",
       "    <tr style=\"text-align: right;\">\n",
       "      <th></th>\n",
       "      <th>comment_id</th>\n",
       "      <th>text</th>\n",
       "    </tr>\n",
       "  </thead>\n",
       "  <tbody>\n",
       "    <tr>\n",
       "      <th>0</th>\n",
       "      <td>114890</td>\n",
       "      <td>\"\\n \\n\\nGjalexei, you asked about whether ther...</td>\n",
       "    </tr>\n",
       "    <tr>\n",
       "      <th>1</th>\n",
       "      <td>732895</td>\n",
       "      <td>Looks like be have an abuser , can you please ...</td>\n",
       "    </tr>\n",
       "    <tr>\n",
       "      <th>2</th>\n",
       "      <td>1139051</td>\n",
       "      <td>I confess to having complete (and apparently b...</td>\n",
       "    </tr>\n",
       "    <tr>\n",
       "      <th>3</th>\n",
       "      <td>1434512</td>\n",
       "      <td>\"\\n\\nFreud's ideas are certainly much discusse...</td>\n",
       "    </tr>\n",
       "    <tr>\n",
       "      <th>4</th>\n",
       "      <td>2084821</td>\n",
       "      <td>It is not just you. This is a laundry list of ...</td>\n",
       "    </tr>\n",
       "    <tr>\n",
       "      <th>5</th>\n",
       "      <td>2452675</td>\n",
       "      <td>HectorRodriguez added blatant NPOV comments to...</td>\n",
       "    </tr>\n",
       "    <tr>\n",
       "      <th>6</th>\n",
       "      <td>3206615</td>\n",
       "      <td>\"\\n\\n baiting Paul \\n\\nI don't think its entir...</td>\n",
       "    </tr>\n",
       "    <tr>\n",
       "      <th>7</th>\n",
       "      <td>3665348</td>\n",
       "      <td>\"\\nTesla stuff\\n\\nNotice how all those \"\"ugly ...</td>\n",
       "    </tr>\n",
       "    <tr>\n",
       "      <th>8</th>\n",
       "      <td>4502494</td>\n",
       "      <td>Shoot! I can't find where i found that instanc...</td>\n",
       "    </tr>\n",
       "    <tr>\n",
       "      <th>9</th>\n",
       "      <td>4804786</td>\n",
       "      <td>Just because one is gay does not mean one is u...</td>\n",
       "    </tr>\n",
       "  </tbody>\n",
       "</table>\n",
       "</div>"
      ],
      "text/plain": [
       "   comment_id                                               text\n",
       "0      114890  \"\\n \\n\\nGjalexei, you asked about whether ther...\n",
       "1      732895  Looks like be have an abuser , can you please ...\n",
       "2     1139051  I confess to having complete (and apparently b...\n",
       "3     1434512  \"\\n\\nFreud's ideas are certainly much discusse...\n",
       "4     2084821  It is not just you. This is a laundry list of ...\n",
       "5     2452675  HectorRodriguez added blatant NPOV comments to...\n",
       "6     3206615  \"\\n\\n baiting Paul \\n\\nI don't think its entir...\n",
       "7     3665348  \"\\nTesla stuff\\n\\nNotice how all those \"\"ugly ...\n",
       "8     4502494  Shoot! I can't find where i found that instanc...\n",
       "9     4804786  Just because one is gay does not mean one is u..."
      ]
     },
     "execution_count": 4,
     "metadata": {},
     "output_type": "execute_result"
    }
   ],
   "source": [
    "df = pd.read_csv(\"../input/jigsaw-toxic-severity-rating/comments_to_score.csv\")\n",
    "print(df.shape)\n",
    "print()\n",
    "df.head(10)"
   ]
  },
  {
   "cell_type": "markdown",
   "id": "d9ce9ec9",
   "metadata": {
    "papermill": {
     "duration": 0.027453,
     "end_time": "2021-12-09T16:34:00.354208",
     "exception": false,
     "start_time": "2021-12-09T16:34:00.326755",
     "status": "completed"
    },
    "tags": []
   },
   "source": [
    "# Preprocessing"
   ]
  },
  {
   "cell_type": "code",
   "execution_count": 5,
   "id": "c26f3137",
   "metadata": {
    "execution": {
     "iopub.execute_input": "2021-12-09T16:34:00.416694Z",
     "iopub.status.busy": "2021-12-09T16:34:00.415601Z",
     "iopub.status.idle": "2021-12-09T16:34:00.418648Z",
     "shell.execute_reply": "2021-12-09T16:34:00.419242Z",
     "shell.execute_reply.started": "2021-12-09T06:05:58.756076Z"
    },
    "papermill": {
     "duration": 0.037207,
     "end_time": "2021-12-09T16:34:00.419414",
     "exception": false,
     "start_time": "2021-12-09T16:34:00.382207",
     "status": "completed"
    },
    "tags": []
   },
   "outputs": [],
   "source": [
    "# nltk.download('stopwords')\n",
    "# STOPWORDS = nltk.corpus.stopwords.words('english')\n",
    "# set(STOPWORDS)"
   ]
  },
  {
   "cell_type": "code",
   "execution_count": 6,
   "id": "d377e771",
   "metadata": {
    "execution": {
     "iopub.execute_input": "2021-12-09T16:34:00.481816Z",
     "iopub.status.busy": "2021-12-09T16:34:00.480713Z",
     "iopub.status.idle": "2021-12-09T16:34:00.483222Z",
     "shell.execute_reply": "2021-12-09T16:34:00.483770Z",
     "shell.execute_reply.started": "2021-12-09T06:05:58.762131Z"
    },
    "papermill": {
     "duration": 0.036873,
     "end_time": "2021-12-09T16:34:00.483949",
     "exception": false,
     "start_time": "2021-12-09T16:34:00.447076",
     "status": "completed"
    },
    "tags": []
   },
   "outputs": [],
   "source": [
    "# STOPWORDS = ['a','about', 'above','after', 'again', 'against', 'ain', 'all', 'am', 'an', 'and', 'any', 'are', 'aren', \"aren't\", 'as', 'at',\\\n",
    "#              'be', 'because', 'been', 'before','being', 'below', 'between', 'both', 'but', 'by', 'can', 'couldn', 'd', 'did','didn',\"didn't\",\\\n",
    "#              'do', 'does', 'doesn', \"doesn't\", 'doing', 'don', \"don't\", 'down', 'during', 'each', 'few','for', 'from', 'further', 'had', 'hadn',\\\n",
    "#              \"hadn't\", 'has', 'hasn',\"hasn't\",'have', 'haven', \"haven't\", 'having', 'he', 'her', 'here', 'hers', 'herself', 'him', 'himself', 'his', \\\n",
    "#              'how', 'i', 'if', 'in', 'into', 'is', 'isn', \"isn't\", 'it', \"it's\", 'its', 'itself', 'just', 'll', 'm', 'ma', 'me', 'mightn', \"mightn't\", \\\n",
    "#              'more', 'most', 'mustn', \"mustn't\", 'my', 'myself', 'needn', \"needn't\", 'no', 'nor', 'not', 'now', 'o', 'of', 'off', 'on', 'once', 'only', 'or', 'other',\\\n",
    "#              'our', 'ours', 'ourselves', 'out', 'over', 'own', 're', 's', 'same', 'shan', \"shan't\", 'she', \"she's\", 'should', \"should've\", 'shouldn', \\\n",
    "#              \"shouldn't\", 'so', 'some', 'such', 't', 'than','that', \"that'll\", 'the', 'their', 'theirs','them','themselves', 'then', 'there', 'these', 'they', \\\n",
    "#              'this', 'those', 'through', 'to', 'too', 'under', 'until', 'up', 've', 'very', 'was', 'wasn', \"wasn't\",\\\n",
    "#              'we', 'were', 'weren', \"weren't\", 'what', 'when', 'where', 'which', 'while', 'who', 'whom', \\\n",
    "#              'why', 'will', 'with', 'won', \"won't\", 'wouldn', \"wouldn't\", 'y', 'you', \"you'd\", \"you'll\", \\\n",
    "#              \"you're\", \"you've\", 'your', 'yours', 'yourself','yourselves']\n",
    "\n",
    "# print(len(STOPWORDS))\n",
    "# set(STOPWORDS)"
   ]
  },
  {
   "cell_type": "code",
   "execution_count": 7,
   "id": "31153b15",
   "metadata": {
    "execution": {
     "iopub.execute_input": "2021-12-09T16:34:00.545310Z",
     "iopub.status.busy": "2021-12-09T16:34:00.544196Z",
     "iopub.status.idle": "2021-12-09T16:34:00.546986Z",
     "shell.execute_reply": "2021-12-09T16:34:00.547522Z",
     "shell.execute_reply.started": "2021-12-09T06:05:58.772473Z"
    },
    "papermill": {
     "duration": 0.036667,
     "end_time": "2021-12-09T16:34:00.547702",
     "exception": false,
     "start_time": "2021-12-09T16:34:00.511035",
     "status": "completed"
    },
    "tags": []
   },
   "outputs": [],
   "source": [
    "## kesha_mandal's code\n",
    "# def washing(comment):\n",
    "\n",
    "#     comment = re.sub('[^a-zA-Z]', ' ', comment)\n",
    "#     comment = comment.lower()\n",
    "#     comment = comment.split()\n",
    "#     stemmer = SnowballStemmer('english')\n",
    "#     lemmatizer = WordNetLemmatizer()\n",
    "#     comment = [stemmer.stem(word) for word in comment if not word in set(STOPWORDS)]\n",
    "#     comment = [lemmatizer.lemmatize(word) for word in comment]\n",
    "#     comment = ' '.join(comment)\n",
    "    # corpus.append(comment)\n",
    "    # return corpus\n",
    "#     return comment\n",
    "\n",
    "\n",
    "\n",
    "##  https://www.kaggle.com/manabendrarout/pytorch-roberta-ranking-baseline-jrstc-infer/notebook\n",
    "# def text_cleaning(text):\n",
    "    \n",
    "#     template = re.compile(r'https?://\\S+|www\\.\\S+') #Removes website links\n",
    "#     text = template.sub(r'', text)\n",
    "    \n",
    "#     soup = BeautifulSoup(text, 'lxml') #Removes HTML tags\n",
    "#     only_text = soup.get_text()\n",
    "#     text = only_text\n",
    "    \n",
    "#     emoji_pattern = re.compile(\"[\"\n",
    "#                                u\"\\U0001F600-\\U0001F64F\"  # emoticons\n",
    "#                                u\"\\U0001F300-\\U0001F5FF\"  # symbols & pictographs\n",
    "#                                u\"\\U0001F680-\\U0001F6FF\"  # transport & map symbols\n",
    "#                                u\"\\U0001F1E0-\\U0001F1FF\"  # flags (iOS)\n",
    "#                                u\"\\U00002702-\\U000027B0\"\n",
    "#                                u\"\\U000024C2-\\U0001F251\"\n",
    "#                                \"]+\", flags=re.UNICODE)\n",
    "#     text = emoji_pattern.sub(r'', text)\n",
    "#     text = re.sub(r\"[^a-zA-Z\\d]\", \" \", text) #Remove special Charecters\n",
    "#     text = re.sub(' +', ' ', text) #Remove Extra Spaces\n",
    "#     text = text.strip() # remove spaces at the beginning and at the end of string\n",
    "\n",
    "#     return text"
   ]
  },
  {
   "cell_type": "code",
   "execution_count": 8,
   "id": "0960d5cf",
   "metadata": {
    "execution": {
     "iopub.execute_input": "2021-12-09T16:34:00.608359Z",
     "iopub.status.busy": "2021-12-09T16:34:00.607398Z",
     "iopub.status.idle": "2021-12-09T16:34:00.610474Z",
     "shell.execute_reply": "2021-12-09T16:34:00.611012Z",
     "shell.execute_reply.started": "2021-12-09T06:05:58.782812Z"
    },
    "papermill": {
     "duration": 0.035894,
     "end_time": "2021-12-09T16:34:00.611200",
     "exception": false,
     "start_time": "2021-12-09T16:34:00.575306",
     "status": "completed"
    },
    "tags": []
   },
   "outputs": [],
   "source": [
    "## https://www.kaggle.com/kishalmandal/most-detailed-eda-tf-idf-and-logistic-reg\n",
    "\n",
    "# df[\"text\"] = df[\"text\"].str.replace('fk', 'fuck')\n",
    "\n",
    "# df.head(10)"
   ]
  },
  {
   "cell_type": "code",
   "execution_count": 9,
   "id": "ffec1aac",
   "metadata": {
    "execution": {
     "iopub.execute_input": "2021-12-09T16:34:00.671878Z",
     "iopub.status.busy": "2021-12-09T16:34:00.670767Z",
     "iopub.status.idle": "2021-12-09T16:34:00.673179Z",
     "shell.execute_reply": "2021-12-09T16:34:00.673763Z",
     "shell.execute_reply.started": "2021-12-09T06:05:58.792717Z"
    },
    "papermill": {
     "duration": 0.034731,
     "end_time": "2021-12-09T16:34:00.673923",
     "exception": false,
     "start_time": "2021-12-09T16:34:00.639192",
     "status": "completed"
    },
    "tags": []
   },
   "outputs": [],
   "source": [
    "# df[\"text\"] = df[\"text\"].apply(text_cleaning)\n",
    "\n",
    "# df.head(10)"
   ]
  },
  {
   "cell_type": "code",
   "execution_count": 10,
   "id": "7ae6265d",
   "metadata": {
    "execution": {
     "iopub.execute_input": "2021-12-09T16:34:00.735758Z",
     "iopub.status.busy": "2021-12-09T16:34:00.735010Z",
     "iopub.status.idle": "2021-12-09T16:34:00.739453Z",
     "shell.execute_reply": "2021-12-09T16:34:00.738810Z",
     "shell.execute_reply.started": "2021-12-09T06:05:58.800508Z"
    },
    "papermill": {
     "duration": 0.038628,
     "end_time": "2021-12-09T16:34:00.739594",
     "exception": false,
     "start_time": "2021-12-09T16:34:00.700966",
     "status": "completed"
    },
    "tags": []
   },
   "outputs": [],
   "source": [
    "# df[\"text\"] = df[\"text\"].apply(washing)\n",
    "\n",
    "# df.head(10)"
   ]
  },
  {
   "cell_type": "markdown",
   "id": "86ef0a77",
   "metadata": {
    "papermill": {
     "duration": 0.026896,
     "end_time": "2021-12-09T16:34:00.793927",
     "exception": false,
     "start_time": "2021-12-09T16:34:00.767031",
     "status": "completed"
    },
    "tags": []
   },
   "source": [
    "# Test Dataset Class"
   ]
  },
  {
   "cell_type": "code",
   "execution_count": 11,
   "id": "1635d562",
   "metadata": {
    "execution": {
     "iopub.execute_input": "2021-12-09T16:34:00.859267Z",
     "iopub.status.busy": "2021-12-09T16:34:00.858136Z",
     "iopub.status.idle": "2021-12-09T16:34:00.860542Z",
     "shell.execute_reply": "2021-12-09T16:34:00.861112Z",
     "shell.execute_reply.started": "2021-12-09T06:05:58.80856Z"
    },
    "papermill": {
     "duration": 0.040185,
     "end_time": "2021-12-09T16:34:00.861289",
     "exception": false,
     "start_time": "2021-12-09T16:34:00.821104",
     "status": "completed"
    },
    "tags": []
   },
   "outputs": [],
   "source": [
    "class JDataset(Dataset):\n",
    "    def __init__(self, df, tokenizer, max_length):\n",
    "        \n",
    "        self.df = df\n",
    "        self.max_len = max_length\n",
    "        self.tokenizer = tokenizer\n",
    "        self.text = df['text'].values\n",
    "#         self.score = df['score']\n",
    "        \n",
    "    def __len__(self):\n",
    "        return len(self.df)\n",
    "    \n",
    "    def __getitem__(self, index):\n",
    "        text = self.text[index]\n",
    "        inputs = self.tokenizer.encode_plus(text, truncation = True,\n",
    "                                            add_special_tokens = True, \n",
    "                                            max_length = self.max_len,\n",
    "                                            padding = 'max_length')\n",
    "        \n",
    "        ids = inputs['input_ids']\n",
    "        mask = inputs['attention_mask']\n",
    "#         target = self.score[index]\n",
    "        \n",
    "        return {'ids' : torch.tensor(ids, dtype = torch.long), \n",
    "                'mask' : torch.tensor(mask, dtype = torch.long),\n",
    "#                 'target' : torch.tensor(target, dtype = torch.float)\n",
    "               }\n"
   ]
  },
  {
   "cell_type": "markdown",
   "id": "e7fb2cbf",
   "metadata": {
    "papermill": {
     "duration": 0.026717,
     "end_time": "2021-12-09T16:34:00.915506",
     "exception": false,
     "start_time": "2021-12-09T16:34:00.888789",
     "status": "completed"
    },
    "tags": []
   },
   "source": [
    "# Test Dataset, Test DataLoader"
   ]
  },
  {
   "cell_type": "code",
   "execution_count": 12,
   "id": "bc0eca80",
   "metadata": {
    "execution": {
     "iopub.execute_input": "2021-12-09T16:34:00.981466Z",
     "iopub.status.busy": "2021-12-09T16:34:00.980285Z",
     "iopub.status.idle": "2021-12-09T16:34:00.983120Z",
     "shell.execute_reply": "2021-12-09T16:34:00.983643Z",
     "shell.execute_reply.started": "2021-12-09T06:05:58.82051Z"
    },
    "papermill": {
     "duration": 0.041218,
     "end_time": "2021-12-09T16:34:00.983800",
     "exception": false,
     "start_time": "2021-12-09T16:34:00.942582",
     "status": "completed"
    },
    "tags": []
   },
   "outputs": [],
   "source": [
    "## Actual TestDataset\n",
    "test_dataset = JDataset(df, CONFIG['tokenizer'], max_length = CONFIG['max_length'])\n",
    "\n",
    "test_loader = DataLoader(test_dataset,\n",
    "                         batch_size = CONFIG['test_batch_size'],\n",
    "                         num_workers = os.cpu_count(),\n",
    "                         shuffle = False,\n",
    "                         pin_memory = True)"
   ]
  },
  {
   "cell_type": "markdown",
   "id": "0403ba61",
   "metadata": {
    "papermill": {
     "duration": 0.027437,
     "end_time": "2021-12-09T16:34:01.038692",
     "exception": false,
     "start_time": "2021-12-09T16:34:01.011255",
     "status": "completed"
    },
    "tags": []
   },
   "source": [
    "# Model"
   ]
  },
  {
   "cell_type": "code",
   "execution_count": 13,
   "id": "758b6149",
   "metadata": {
    "execution": {
     "iopub.execute_input": "2021-12-09T16:34:01.102525Z",
     "iopub.status.busy": "2021-12-09T16:34:01.101314Z",
     "iopub.status.idle": "2021-12-09T16:34:01.103665Z",
     "shell.execute_reply": "2021-12-09T16:34:01.104238Z",
     "shell.execute_reply.started": "2021-12-09T06:05:58.835602Z"
    },
    "papermill": {
     "duration": 0.038603,
     "end_time": "2021-12-09T16:34:01.104393",
     "exception": false,
     "start_time": "2021-12-09T16:34:01.065790",
     "status": "completed"
    },
    "tags": []
   },
   "outputs": [],
   "source": [
    "class Model(nn.Module):\n",
    "    \n",
    "    def __init__(self, model_name):\n",
    "        super().__init__()\n",
    "        self.model = AutoModel.from_pretrained(model_name)\n",
    "        self.dropout = nn.Dropout(p = 0.2)\n",
    "        self.linear = nn.Linear(768, CONFIG['num_classes'])\n",
    "        self.sigmoid = nn.Sigmoid()\n",
    "    \n",
    "    def forward(self, ids, mask):\n",
    "        model_out = self.model(input_ids = ids,\n",
    "                               attention_mask = mask,\n",
    "                               output_hidden_states = False)\n",
    "        \n",
    "        out = self.dropout(model_out[1])\n",
    "        output = self.linear(out)\n",
    "        outputs = self.sigmoid(output)\n",
    "        \n",
    "        return outputs"
   ]
  },
  {
   "cell_type": "markdown",
   "id": "cb3e250e",
   "metadata": {
    "papermill": {
     "duration": 0.027607,
     "end_time": "2021-12-09T16:34:01.159826",
     "exception": false,
     "start_time": "2021-12-09T16:34:01.132219",
     "status": "completed"
    },
    "tags": []
   },
   "source": [
    "# Model Paths"
   ]
  },
  {
   "cell_type": "code",
   "execution_count": 14,
   "id": "b3ca8472",
   "metadata": {
    "execution": {
     "iopub.execute_input": "2021-12-09T16:34:01.222734Z",
     "iopub.status.busy": "2021-12-09T16:34:01.221599Z",
     "iopub.status.idle": "2021-12-09T16:34:01.224874Z",
     "shell.execute_reply": "2021-12-09T16:34:01.224318Z",
     "shell.execute_reply.started": "2021-12-09T06:05:58.846566Z"
    },
    "papermill": {
     "duration": 0.036673,
     "end_time": "2021-12-09T16:34:01.225024",
     "exception": false,
     "start_time": "2021-12-09T16:34:01.188351",
     "status": "completed"
    },
    "tags": []
   },
   "outputs": [],
   "source": [
    "## Model paths\n",
    "MODEL_PATHS = [\n",
    "    '../input/hatebert-mseloss-train-rudditdata/Loss-Fold-0.bin',\n",
    "    '../input/hatebert-mseloss-train-rudditdata/Loss-Fold-1.bin',\n",
    "    '../input/hatebert-mseloss-train-rudditdata/Loss-Fold-2.bin',\n",
    "    '../input/hatebert-mseloss-train-rudditdata/Loss-Fold-3.bin',\n",
    "    '../input/hatebert-mseloss-train-rudditdata/Loss-Fold-4.bin'\n",
    "]"
   ]
  },
  {
   "cell_type": "markdown",
   "id": "de430127",
   "metadata": {
    "papermill": {
     "duration": 0.026614,
     "end_time": "2021-12-09T16:34:01.279837",
     "exception": false,
     "start_time": "2021-12-09T16:34:01.253223",
     "status": "completed"
    },
    "tags": []
   },
   "source": [
    "# Validation Function"
   ]
  },
  {
   "cell_type": "code",
   "execution_count": 15,
   "id": "8a91b300",
   "metadata": {
    "execution": {
     "iopub.execute_input": "2021-12-09T16:34:01.344689Z",
     "iopub.status.busy": "2021-12-09T16:34:01.343558Z",
     "iopub.status.idle": "2021-12-09T16:34:01.347350Z",
     "shell.execute_reply": "2021-12-09T16:34:01.346600Z",
     "shell.execute_reply.started": "2021-12-09T06:05:58.856303Z"
    },
    "papermill": {
     "duration": 0.040226,
     "end_time": "2021-12-09T16:34:01.347500",
     "exception": false,
     "start_time": "2021-12-09T16:34:01.307274",
     "status": "completed"
    },
    "tags": []
   },
   "outputs": [],
   "source": [
    "@torch.no_grad()\n",
    "def valid_fn(model, dataloader, device):\n",
    "    \n",
    "    model.eval()\n",
    "    \n",
    "    dataset_size = 0\n",
    "    running_loss = 0.\n",
    "    PREDS =[]\n",
    "    \n",
    "    bar = tqdm(enumerate(dataloader), total = len(dataloader))\n",
    "    \n",
    "    for step, data in bar:\n",
    "        \n",
    "        ids = data['ids'].to(device, dtype = torch.long)\n",
    "        mask = data['mask'].to(device, dtype = torch.long)\n",
    "        \n",
    "        outputs = model(ids, mask)\n",
    "        PREDS.append(outputs.view(-1).cpu().detach().numpy())\n",
    "        \n",
    "    PREDS = np.concatenate(PREDS)\n",
    "    gc.collect()\n",
    "    \n",
    "    return PREDS"
   ]
  },
  {
   "cell_type": "markdown",
   "id": "7708e5a9",
   "metadata": {
    "papermill": {
     "duration": 0.02743,
     "end_time": "2021-12-09T16:34:01.403186",
     "exception": false,
     "start_time": "2021-12-09T16:34:01.375756",
     "status": "completed"
    },
    "tags": []
   },
   "source": [
    "# inference Function"
   ]
  },
  {
   "cell_type": "code",
   "execution_count": 16,
   "id": "8d2c3048",
   "metadata": {
    "execution": {
     "iopub.execute_input": "2021-12-09T16:34:01.467982Z",
     "iopub.status.busy": "2021-12-09T16:34:01.466852Z",
     "iopub.status.idle": "2021-12-09T16:34:01.469351Z",
     "shell.execute_reply": "2021-12-09T16:34:01.469961Z",
     "shell.execute_reply.started": "2021-12-09T06:05:58.866985Z"
    },
    "papermill": {
     "duration": 0.038697,
     "end_time": "2021-12-09T16:34:01.470143",
     "exception": false,
     "start_time": "2021-12-09T16:34:01.431446",
     "status": "completed"
    },
    "tags": []
   },
   "outputs": [],
   "source": [
    "def inference(model_paths, dataloader, device):\n",
    "    final_preds = []\n",
    "    for i, path in enumerate(model_paths):\n",
    "        model = Model(CONFIG['model_name'])\n",
    "        model.to(CONFIG['device'])\n",
    "        model.load_state_dict(torch.load(path))\n",
    "        \n",
    "        print(f\"Getting prediction for model {i + 1}\")\n",
    "        preds = valid_fn(model, dataloader, device)\n",
    "        final_preds.append(preds)\n",
    "    \n",
    "    final_preds = np.array(final_preds)\n",
    "    final_predss = np.mean(final_preds, axis = 0)\n",
    "    return final_predss"
   ]
  },
  {
   "cell_type": "markdown",
   "id": "e9f09170",
   "metadata": {
    "papermill": {
     "duration": 0.027199,
     "end_time": "2021-12-09T16:34:01.524710",
     "exception": false,
     "start_time": "2021-12-09T16:34:01.497511",
     "status": "completed"
    },
    "tags": []
   },
   "source": [
    "# Prediction"
   ]
  },
  {
   "cell_type": "code",
   "execution_count": 17,
   "id": "3b590cde",
   "metadata": {
    "execution": {
     "iopub.execute_input": "2021-12-09T16:34:01.586102Z",
     "iopub.status.busy": "2021-12-09T16:34:01.585018Z",
     "iopub.status.idle": "2021-12-09T16:37:30.395757Z",
     "shell.execute_reply": "2021-12-09T16:37:30.396454Z",
     "shell.execute_reply.started": "2021-12-09T06:07:20.836883Z"
    },
    "papermill": {
     "duration": 208.844041,
     "end_time": "2021-12-09T16:37:30.396643",
     "exception": false,
     "start_time": "2021-12-09T16:34:01.552602",
     "status": "completed"
    },
    "tags": []
   },
   "outputs": [
    {
     "name": "stdout",
     "output_type": "stream",
     "text": [
      "Getting prediction for model 1\n"
     ]
    },
    {
     "name": "stderr",
     "output_type": "stream",
     "text": [
      "100%|██████████| 118/118 [00:33<00:00,  3.57it/s]\n"
     ]
    },
    {
     "name": "stdout",
     "output_type": "stream",
     "text": [
      "Getting prediction for model 2\n"
     ]
    },
    {
     "name": "stderr",
     "output_type": "stream",
     "text": [
      "100%|██████████| 118/118 [00:31<00:00,  3.72it/s]\n"
     ]
    },
    {
     "name": "stdout",
     "output_type": "stream",
     "text": [
      "Getting prediction for model 3\n"
     ]
    },
    {
     "name": "stderr",
     "output_type": "stream",
     "text": [
      "100%|██████████| 118/118 [00:31<00:00,  3.73it/s]\n"
     ]
    },
    {
     "name": "stdout",
     "output_type": "stream",
     "text": [
      "Getting prediction for model 4\n"
     ]
    },
    {
     "name": "stderr",
     "output_type": "stream",
     "text": [
      "100%|██████████| 118/118 [00:31<00:00,  3.71it/s]\n"
     ]
    },
    {
     "name": "stdout",
     "output_type": "stream",
     "text": [
      "Getting prediction for model 5\n"
     ]
    },
    {
     "name": "stderr",
     "output_type": "stream",
     "text": [
      "100%|██████████| 118/118 [00:31<00:00,  3.72it/s]\n"
     ]
    }
   ],
   "source": [
    "preds = inference(MODEL_PATHS, test_loader, CONFIG['device'])"
   ]
  },
  {
   "cell_type": "code",
   "execution_count": 18,
   "id": "55649c19",
   "metadata": {
    "execution": {
     "iopub.execute_input": "2021-12-09T16:37:30.879063Z",
     "iopub.status.busy": "2021-12-09T16:37:30.878245Z",
     "iopub.status.idle": "2021-12-09T16:37:30.882653Z",
     "shell.execute_reply": "2021-12-09T16:37:30.883369Z",
     "shell.execute_reply.started": "2021-12-09T05:53:08.046545Z"
    },
    "papermill": {
     "duration": 0.250887,
     "end_time": "2021-12-09T16:37:30.883579",
     "exception": false,
     "start_time": "2021-12-09T16:37:30.632692",
     "status": "completed"
    },
    "tags": []
   },
   "outputs": [
    {
     "name": "stdout",
     "output_type": "stream",
     "text": [
      "Total Predictiions: 7537\n"
     ]
    }
   ],
   "source": [
    "print(f\"Total Predictiions: {preds.shape[0]}\")"
   ]
  },
  {
   "cell_type": "code",
   "execution_count": 19,
   "id": "70eb4b34",
   "metadata": {
    "execution": {
     "iopub.execute_input": "2021-12-09T16:37:31.366308Z",
     "iopub.status.busy": "2021-12-09T16:37:31.365222Z",
     "iopub.status.idle": "2021-12-09T16:37:31.370767Z",
     "shell.execute_reply": "2021-12-09T16:37:31.370232Z",
     "shell.execute_reply.started": "2021-12-09T05:53:08.04791Z"
    },
    "papermill": {
     "duration": 0.24724,
     "end_time": "2021-12-09T16:37:31.370902",
     "exception": false,
     "start_time": "2021-12-09T16:37:31.123662",
     "status": "completed"
    },
    "tags": []
   },
   "outputs": [
    {
     "name": "stdout",
     "output_type": "stream",
     "text": [
      "Total Unique Predictions: 7518\n"
     ]
    }
   ],
   "source": [
    "print(f\"Total Unique Predictions: {np.unique(preds).shape[0]}\")"
   ]
  },
  {
   "cell_type": "code",
   "execution_count": 20,
   "id": "a57aad67",
   "metadata": {
    "execution": {
     "iopub.execute_input": "2021-12-09T16:37:31.862193Z",
     "iopub.status.busy": "2021-12-09T16:37:31.861062Z",
     "iopub.status.idle": "2021-12-09T16:37:31.866916Z",
     "shell.execute_reply": "2021-12-09T16:37:31.867542Z",
     "shell.execute_reply.started": "2021-12-09T05:53:08.049406Z"
    },
    "papermill": {
     "duration": 0.257354,
     "end_time": "2021-12-09T16:37:31.867704",
     "exception": false,
     "start_time": "2021-12-09T16:37:31.610350",
     "status": "completed"
    },
    "tags": []
   },
   "outputs": [
    {
     "name": "stdout",
     "output_type": "stream",
     "text": [
      "(7537, 3)\n",
      "\n"
     ]
    },
    {
     "data": {
      "text/html": [
       "<div>\n",
       "<style scoped>\n",
       "    .dataframe tbody tr th:only-of-type {\n",
       "        vertical-align: middle;\n",
       "    }\n",
       "\n",
       "    .dataframe tbody tr th {\n",
       "        vertical-align: top;\n",
       "    }\n",
       "\n",
       "    .dataframe thead th {\n",
       "        text-align: right;\n",
       "    }\n",
       "</style>\n",
       "<table border=\"1\" class=\"dataframe\">\n",
       "  <thead>\n",
       "    <tr style=\"text-align: right;\">\n",
       "      <th></th>\n",
       "      <th>comment_id</th>\n",
       "      <th>text</th>\n",
       "      <th>score</th>\n",
       "    </tr>\n",
       "  </thead>\n",
       "  <tbody>\n",
       "    <tr>\n",
       "      <th>0</th>\n",
       "      <td>114890</td>\n",
       "      <td>\"\\n \\n\\nGjalexei, you asked about whether ther...</td>\n",
       "      <td>0.512595</td>\n",
       "    </tr>\n",
       "    <tr>\n",
       "      <th>1</th>\n",
       "      <td>732895</td>\n",
       "      <td>Looks like be have an abuser , can you please ...</td>\n",
       "      <td>0.464348</td>\n",
       "    </tr>\n",
       "    <tr>\n",
       "      <th>2</th>\n",
       "      <td>1139051</td>\n",
       "      <td>I confess to having complete (and apparently b...</td>\n",
       "      <td>0.506667</td>\n",
       "    </tr>\n",
       "    <tr>\n",
       "      <th>3</th>\n",
       "      <td>1434512</td>\n",
       "      <td>\"\\n\\nFreud's ideas are certainly much discusse...</td>\n",
       "      <td>0.495824</td>\n",
       "    </tr>\n",
       "    <tr>\n",
       "      <th>4</th>\n",
       "      <td>2084821</td>\n",
       "      <td>It is not just you. This is a laundry list of ...</td>\n",
       "      <td>0.575382</td>\n",
       "    </tr>\n",
       "    <tr>\n",
       "      <th>5</th>\n",
       "      <td>2452675</td>\n",
       "      <td>HectorRodriguez added blatant NPOV comments to...</td>\n",
       "      <td>0.496592</td>\n",
       "    </tr>\n",
       "    <tr>\n",
       "      <th>6</th>\n",
       "      <td>3206615</td>\n",
       "      <td>\"\\n\\n baiting Paul \\n\\nI don't think its entir...</td>\n",
       "      <td>0.578333</td>\n",
       "    </tr>\n",
       "    <tr>\n",
       "      <th>7</th>\n",
       "      <td>3665348</td>\n",
       "      <td>\"\\nTesla stuff\\n\\nNotice how all those \"\"ugly ...</td>\n",
       "      <td>0.551304</td>\n",
       "    </tr>\n",
       "    <tr>\n",
       "      <th>8</th>\n",
       "      <td>4502494</td>\n",
       "      <td>Shoot! I can't find where i found that instanc...</td>\n",
       "      <td>0.423570</td>\n",
       "    </tr>\n",
       "    <tr>\n",
       "      <th>9</th>\n",
       "      <td>4804786</td>\n",
       "      <td>Just because one is gay does not mean one is u...</td>\n",
       "      <td>0.555767</td>\n",
       "    </tr>\n",
       "  </tbody>\n",
       "</table>\n",
       "</div>"
      ],
      "text/plain": [
       "   comment_id                                               text     score\n",
       "0      114890  \"\\n \\n\\nGjalexei, you asked about whether ther...  0.512595\n",
       "1      732895  Looks like be have an abuser , can you please ...  0.464348\n",
       "2     1139051  I confess to having complete (and apparently b...  0.506667\n",
       "3     1434512  \"\\n\\nFreud's ideas are certainly much discusse...  0.495824\n",
       "4     2084821  It is not just you. This is a laundry list of ...  0.575382\n",
       "5     2452675  HectorRodriguez added blatant NPOV comments to...  0.496592\n",
       "6     3206615  \"\\n\\n baiting Paul \\n\\nI don't think its entir...  0.578333\n",
       "7     3665348  \"\\nTesla stuff\\n\\nNotice how all those \"\"ugly ...  0.551304\n",
       "8     4502494  Shoot! I can't find where i found that instanc...  0.423570\n",
       "9     4804786  Just because one is gay does not mean one is u...  0.555767"
      ]
     },
     "execution_count": 20,
     "metadata": {},
     "output_type": "execute_result"
    }
   ],
   "source": [
    "df['score'] = preds\n",
    "\n",
    "print(df.shape)\n",
    "print()\n",
    "\n",
    "df.head(10)"
   ]
  },
  {
   "cell_type": "markdown",
   "id": "b2ca2e73",
   "metadata": {
    "papermill": {
     "duration": 0.237936,
     "end_time": "2021-12-09T16:37:32.343025",
     "exception": false,
     "start_time": "2021-12-09T16:37:32.105089",
     "status": "completed"
    },
    "tags": []
   },
   "source": [
    "# Submission"
   ]
  },
  {
   "cell_type": "code",
   "execution_count": 21,
   "id": "6e98f25e",
   "metadata": {
    "execution": {
     "iopub.execute_input": "2021-12-09T16:37:32.827030Z",
     "iopub.status.busy": "2021-12-09T16:37:32.825891Z",
     "iopub.status.idle": "2021-12-09T16:37:32.843896Z",
     "shell.execute_reply": "2021-12-09T16:37:32.844502Z",
     "shell.execute_reply.started": "2021-12-09T05:53:08.052239Z"
    },
    "papermill": {
     "duration": 0.266635,
     "end_time": "2021-12-09T16:37:32.844686",
     "exception": false,
     "start_time": "2021-12-09T16:37:32.578051",
     "status": "completed"
    },
    "tags": []
   },
   "outputs": [
    {
     "name": "stdout",
     "output_type": "stream",
     "text": [
      "(7537, 3)\n",
      "\n"
     ]
    },
    {
     "data": {
      "text/html": [
       "<div>\n",
       "<style scoped>\n",
       "    .dataframe tbody tr th:only-of-type {\n",
       "        vertical-align: middle;\n",
       "    }\n",
       "\n",
       "    .dataframe tbody tr th {\n",
       "        vertical-align: top;\n",
       "    }\n",
       "\n",
       "    .dataframe thead th {\n",
       "        text-align: right;\n",
       "    }\n",
       "</style>\n",
       "<table border=\"1\" class=\"dataframe\">\n",
       "  <thead>\n",
       "    <tr style=\"text-align: right;\">\n",
       "      <th></th>\n",
       "      <th>comment_id</th>\n",
       "      <th>text</th>\n",
       "      <th>score</th>\n",
       "    </tr>\n",
       "  </thead>\n",
       "  <tbody>\n",
       "    <tr>\n",
       "      <th>0</th>\n",
       "      <td>114890</td>\n",
       "      <td>\"\\n \\n\\nGjalexei, you asked about whether ther...</td>\n",
       "      <td>1715.0</td>\n",
       "    </tr>\n",
       "    <tr>\n",
       "      <th>1</th>\n",
       "      <td>732895</td>\n",
       "      <td>Looks like be have an abuser , can you please ...</td>\n",
       "      <td>394.0</td>\n",
       "    </tr>\n",
       "    <tr>\n",
       "      <th>2</th>\n",
       "      <td>1139051</td>\n",
       "      <td>I confess to having complete (and apparently b...</td>\n",
       "      <td>1464.0</td>\n",
       "    </tr>\n",
       "    <tr>\n",
       "      <th>3</th>\n",
       "      <td>1434512</td>\n",
       "      <td>\"\\n\\nFreud's ideas are certainly much discusse...</td>\n",
       "      <td>1105.0</td>\n",
       "    </tr>\n",
       "    <tr>\n",
       "      <th>4</th>\n",
       "      <td>2084821</td>\n",
       "      <td>It is not just you. This is a laundry list of ...</td>\n",
       "      <td>4484.0</td>\n",
       "    </tr>\n",
       "    <tr>\n",
       "      <th>5</th>\n",
       "      <td>2452675</td>\n",
       "      <td>HectorRodriguez added blatant NPOV comments to...</td>\n",
       "      <td>1130.0</td>\n",
       "    </tr>\n",
       "    <tr>\n",
       "      <th>6</th>\n",
       "      <td>3206615</td>\n",
       "      <td>\"\\n\\n baiting Paul \\n\\nI don't think its entir...</td>\n",
       "      <td>4583.0</td>\n",
       "    </tr>\n",
       "    <tr>\n",
       "      <th>7</th>\n",
       "      <td>3665348</td>\n",
       "      <td>\"\\nTesla stuff\\n\\nNotice how all those \"\"ugly ...</td>\n",
       "      <td>3535.0</td>\n",
       "    </tr>\n",
       "    <tr>\n",
       "      <th>8</th>\n",
       "      <td>4502494</td>\n",
       "      <td>Shoot! I can't find where i found that instanc...</td>\n",
       "      <td>77.0</td>\n",
       "    </tr>\n",
       "    <tr>\n",
       "      <th>9</th>\n",
       "      <td>4804786</td>\n",
       "      <td>Just because one is gay does not mean one is u...</td>\n",
       "      <td>3742.0</td>\n",
       "    </tr>\n",
       "  </tbody>\n",
       "</table>\n",
       "</div>"
      ],
      "text/plain": [
       "   comment_id                                               text   score\n",
       "0      114890  \"\\n \\n\\nGjalexei, you asked about whether ther...  1715.0\n",
       "1      732895  Looks like be have an abuser , can you please ...   394.0\n",
       "2     1139051  I confess to having complete (and apparently b...  1464.0\n",
       "3     1434512  \"\\n\\nFreud's ideas are certainly much discusse...  1105.0\n",
       "4     2084821  It is not just you. This is a laundry list of ...  4484.0\n",
       "5     2452675  HectorRodriguez added blatant NPOV comments to...  1130.0\n",
       "6     3206615  \"\\n\\n baiting Paul \\n\\nI don't think its entir...  4583.0\n",
       "7     3665348  \"\\nTesla stuff\\n\\nNotice how all those \"\"ugly ...  3535.0\n",
       "8     4502494  Shoot! I can't find where i found that instanc...    77.0\n",
       "9     4804786  Just because one is gay does not mean one is u...  3742.0"
      ]
     },
     "execution_count": 21,
     "metadata": {},
     "output_type": "execute_result"
    }
   ],
   "source": [
    "df['score'] = df['score'].rank(method='first')\n",
    "\n",
    "print(df.shape)\n",
    "print()\n",
    "\n",
    "df.head(10)"
   ]
  },
  {
   "cell_type": "code",
   "execution_count": 22,
   "id": "2f36047c",
   "metadata": {
    "execution": {
     "iopub.execute_input": "2021-12-09T16:37:33.331519Z",
     "iopub.status.busy": "2021-12-09T16:37:33.330641Z",
     "iopub.status.idle": "2021-12-09T16:37:33.367351Z",
     "shell.execute_reply": "2021-12-09T16:37:33.367888Z",
     "shell.execute_reply.started": "2021-12-09T05:53:08.054435Z"
    },
    "papermill": {
     "duration": 0.284815,
     "end_time": "2021-12-09T16:37:33.368080",
     "exception": false,
     "start_time": "2021-12-09T16:37:33.083265",
     "status": "completed"
    },
    "tags": []
   },
   "outputs": [
    {
     "name": "stdout",
     "output_type": "stream",
     "text": [
      "(7537, 2)\n",
      "\n"
     ]
    },
    {
     "data": {
      "text/html": [
       "<div>\n",
       "<style scoped>\n",
       "    .dataframe tbody tr th:only-of-type {\n",
       "        vertical-align: middle;\n",
       "    }\n",
       "\n",
       "    .dataframe tbody tr th {\n",
       "        vertical-align: top;\n",
       "    }\n",
       "\n",
       "    .dataframe thead th {\n",
       "        text-align: right;\n",
       "    }\n",
       "</style>\n",
       "<table border=\"1\" class=\"dataframe\">\n",
       "  <thead>\n",
       "    <tr style=\"text-align: right;\">\n",
       "      <th></th>\n",
       "      <th>comment_id</th>\n",
       "      <th>score</th>\n",
       "    </tr>\n",
       "  </thead>\n",
       "  <tbody>\n",
       "    <tr>\n",
       "      <th>0</th>\n",
       "      <td>114890</td>\n",
       "      <td>1715.0</td>\n",
       "    </tr>\n",
       "    <tr>\n",
       "      <th>1</th>\n",
       "      <td>732895</td>\n",
       "      <td>394.0</td>\n",
       "    </tr>\n",
       "    <tr>\n",
       "      <th>2</th>\n",
       "      <td>1139051</td>\n",
       "      <td>1464.0</td>\n",
       "    </tr>\n",
       "    <tr>\n",
       "      <th>3</th>\n",
       "      <td>1434512</td>\n",
       "      <td>1105.0</td>\n",
       "    </tr>\n",
       "    <tr>\n",
       "      <th>4</th>\n",
       "      <td>2084821</td>\n",
       "      <td>4484.0</td>\n",
       "    </tr>\n",
       "    <tr>\n",
       "      <th>5</th>\n",
       "      <td>2452675</td>\n",
       "      <td>1130.0</td>\n",
       "    </tr>\n",
       "    <tr>\n",
       "      <th>6</th>\n",
       "      <td>3206615</td>\n",
       "      <td>4583.0</td>\n",
       "    </tr>\n",
       "    <tr>\n",
       "      <th>7</th>\n",
       "      <td>3665348</td>\n",
       "      <td>3535.0</td>\n",
       "    </tr>\n",
       "    <tr>\n",
       "      <th>8</th>\n",
       "      <td>4502494</td>\n",
       "      <td>77.0</td>\n",
       "    </tr>\n",
       "    <tr>\n",
       "      <th>9</th>\n",
       "      <td>4804786</td>\n",
       "      <td>3742.0</td>\n",
       "    </tr>\n",
       "  </tbody>\n",
       "</table>\n",
       "</div>"
      ],
      "text/plain": [
       "   comment_id   score\n",
       "0      114890  1715.0\n",
       "1      732895   394.0\n",
       "2     1139051  1464.0\n",
       "3     1434512  1105.0\n",
       "4     2084821  4484.0\n",
       "5     2452675  1130.0\n",
       "6     3206615  4583.0\n",
       "7     3665348  3535.0\n",
       "8     4502494    77.0\n",
       "9     4804786  3742.0"
      ]
     },
     "execution_count": 22,
     "metadata": {},
     "output_type": "execute_result"
    }
   ],
   "source": [
    "df.drop('text', axis=1, inplace=True)\n",
    "\n",
    "print(df.shape)\n",
    "print()\n",
    "\n",
    "df.to_csv(\"submission.csv\", index=False)\n",
    "df.head(10)"
   ]
  }
 ],
 "metadata": {
  "kernelspec": {
   "display_name": "Python 3",
   "language": "python",
   "name": "python3"
  },
  "language_info": {
   "codemirror_mode": {
    "name": "ipython",
    "version": 3
   },
   "file_extension": ".py",
   "mimetype": "text/x-python",
   "name": "python",
   "nbconvert_exporter": "python",
   "pygments_lexer": "ipython3",
   "version": "3.7.12"
  },
  "papermill": {
   "default_parameters": {},
   "duration": 238.877583,
   "end_time": "2021-12-09T16:37:36.865438",
   "environment_variables": {},
   "exception": null,
   "input_path": "__notebook__.ipynb",
   "output_path": "__notebook__.ipynb",
   "parameters": {},
   "start_time": "2021-12-09T16:33:37.987855",
   "version": "2.3.3"
  }
 },
 "nbformat": 4,
 "nbformat_minor": 5
}
