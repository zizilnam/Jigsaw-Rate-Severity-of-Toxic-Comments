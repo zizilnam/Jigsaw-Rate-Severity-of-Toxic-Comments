{
 "cells": [
  {
   "cell_type": "markdown",
   "id": "d19886a4",
   "metadata": {
    "papermill": {
     "duration": 0.027519,
     "end_time": "2021-12-09T16:39:36.072875",
     "exception": false,
     "start_time": "2021-12-09T16:39:36.045356",
     "status": "completed"
    },
    "tags": []
   },
   "source": [
    "# Import"
   ]
  },
  {
   "cell_type": "code",
   "execution_count": 1,
   "id": "e004308e",
   "metadata": {
    "_cell_guid": "b1076dfc-b9ad-4769-8c92-a6c4dae69d19",
    "_uuid": "8f2839f25d086af736a60e9eeb907d3b93b6e0e5",
    "execution": {
     "iopub.execute_input": "2021-12-09T16:39:36.132731Z",
     "iopub.status.busy": "2021-12-09T16:39:36.131049Z",
     "iopub.status.idle": "2021-12-09T16:39:43.472107Z",
     "shell.execute_reply": "2021-12-09T16:39:43.472573Z",
     "shell.execute_reply.started": "2021-12-09T14:58:19.089266Z"
    },
    "papermill": {
     "duration": 7.371998,
     "end_time": "2021-12-09T16:39:43.472853",
     "exception": false,
     "start_time": "2021-12-09T16:39:36.100855",
     "status": "completed"
    },
    "tags": []
   },
   "outputs": [],
   "source": [
    "import os\n",
    "import gc\n",
    "import copy\n",
    "import re\n",
    "import time\n",
    "import random\n",
    "import string\n",
    "import warnings\n",
    "\n",
    "warnings.filterwarnings(\"ignore\")\n",
    "os.environ['CUDA_LAUNCH_BLOCKING'] = \"1\"\n",
    "\n",
    "import numpy as np\n",
    "import pandas as pd\n",
    "\n",
    "import torch\n",
    "import torch.nn as nn\n",
    "import torch.nn.functional as F\n",
    "import torch.optim as optim \n",
    "from torch.optim import lr_scheduler\n",
    "from torch.utils.data import Dataset, DataLoader\n",
    "\n",
    "\n",
    "from sklearn.metrics import mean_squared_error\n",
    "from sklearn.model_selection import StratifiedKFold, KFold\n",
    "\n",
    "from bs4 import BeautifulSoup\n",
    "from tqdm import tqdm\n",
    "from collections import defaultdict\n",
    "import copy\n",
    "from copy import deepcopy\n",
    "\n",
    "import nltk\n",
    "# from nltk.stem import SnowballStemmer, WordNetLemmatizer\n",
    "from nltk.stem.snowball import SnowballStemmer\n",
    "from nltk.stem.wordnet import WordNetLemmatizer\n",
    "\n",
    "from transformers import AutoTokenizer, AutoModel, AdamW\n",
    "\n",
    "from colorama import Fore, Back, Style\n",
    "b_ = Fore.BLUE\n",
    "y_ = Fore.YELLOW\n",
    "sr_ = Style.RESET_ALL"
   ]
  },
  {
   "cell_type": "markdown",
   "id": "d6695143",
   "metadata": {
    "papermill": {
     "duration": 0.02496,
     "end_time": "2021-12-09T16:39:43.523387",
     "exception": false,
     "start_time": "2021-12-09T16:39:43.498427",
     "status": "completed"
    },
    "tags": []
   },
   "source": [
    "# id_generator"
   ]
  },
  {
   "cell_type": "code",
   "execution_count": 2,
   "id": "2379e12a",
   "metadata": {
    "execution": {
     "iopub.execute_input": "2021-12-09T16:39:43.579295Z",
     "iopub.status.busy": "2021-12-09T16:39:43.578377Z",
     "iopub.status.idle": "2021-12-09T16:39:43.584178Z",
     "shell.execute_reply": "2021-12-09T16:39:43.584820Z",
     "shell.execute_reply.started": "2021-12-09T14:58:26.714929Z"
    },
    "papermill": {
     "duration": 0.036491,
     "end_time": "2021-12-09T16:39:43.584983",
     "exception": false,
     "start_time": "2021-12-09T16:39:43.548492",
     "status": "completed"
    },
    "tags": []
   },
   "outputs": [
    {
     "name": "stdout",
     "output_type": "stream",
     "text": [
      "spi33b520z76\n"
     ]
    }
   ],
   "source": [
    "def id_generator(size = 12, chars = string.ascii_lowercase + string.digits):\n",
    "    return ''.join(random.SystemRandom().choice(chars) for _ in range(size))\n",
    "\n",
    "HASH_NAME = id_generator(size = 12)\n",
    "print(HASH_NAME)"
   ]
  },
  {
   "cell_type": "markdown",
   "id": "f7e411a6",
   "metadata": {
    "papermill": {
     "duration": 0.025733,
     "end_time": "2021-12-09T16:39:43.637174",
     "exception": false,
     "start_time": "2021-12-09T16:39:43.611441",
     "status": "completed"
    },
    "tags": []
   },
   "source": [
    "# Config"
   ]
  },
  {
   "cell_type": "code",
   "execution_count": 3,
   "id": "0c0d81f3",
   "metadata": {
    "execution": {
     "iopub.execute_input": "2021-12-09T16:39:43.733910Z",
     "iopub.status.busy": "2021-12-09T16:39:43.732962Z",
     "iopub.status.idle": "2021-12-09T16:39:50.412998Z",
     "shell.execute_reply": "2021-12-09T16:39:50.414135Z",
     "shell.execute_reply.started": "2021-12-09T14:58:26.725124Z"
    },
    "papermill": {
     "duration": 6.751333,
     "end_time": "2021-12-09T16:39:50.414352",
     "exception": false,
     "start_time": "2021-12-09T16:39:43.663019",
     "status": "completed"
    },
    "tags": []
   },
   "outputs": [
    {
     "data": {
      "application/vnd.jupyter.widget-view+json": {
       "model_id": "d8e262df58d3477aa01bcf44533ab7bd",
       "version_major": 2,
       "version_minor": 0
      },
      "text/plain": [
       "Downloading:   0%|          | 0.00/481 [00:00<?, ?B/s]"
      ]
     },
     "metadata": {},
     "output_type": "display_data"
    },
    {
     "data": {
      "application/vnd.jupyter.widget-view+json": {
       "model_id": "b4472783fc48458baad0e76e77a7eff0",
       "version_major": 2,
       "version_minor": 0
      },
      "text/plain": [
       "Downloading:   0%|          | 0.00/899k [00:00<?, ?B/s]"
      ]
     },
     "metadata": {},
     "output_type": "display_data"
    },
    {
     "data": {
      "application/vnd.jupyter.widget-view+json": {
       "model_id": "785fc85ec1fe4e04b0358ed5196e7099",
       "version_major": 2,
       "version_minor": 0
      },
      "text/plain": [
       "Downloading:   0%|          | 0.00/456k [00:00<?, ?B/s]"
      ]
     },
     "metadata": {},
     "output_type": "display_data"
    },
    {
     "data": {
      "application/vnd.jupyter.widget-view+json": {
       "model_id": "38276c8f6842433699ddea0a820556fe",
       "version_major": 2,
       "version_minor": 0
      },
      "text/plain": [
       "Downloading:   0%|          | 0.00/1.36M [00:00<?, ?B/s]"
      ]
     },
     "metadata": {},
     "output_type": "display_data"
    }
   ],
   "source": [
    "CONFIG = {\"seed\": 2021,\n",
    "          \"epochs\": 10,\n",
    "#           \"model_name\": \"GroNLP/hateBERT\",\n",
    "          \"model_name\": \"roberta-base\",\n",
    "          \"train_batch_size\": 32,\n",
    "          \"valid_batch_size\": 64,\n",
    "          \"max_length\": 128,\n",
    "          \"learning_rate\": 1e-4,\n",
    "          \"scheduler\": 'CosineAnnealingLR',\n",
    "          \"min_lr\": 1e-6,\n",
    "          \"T_max\": 500,\n",
    "          \"weight_decay\": 1e-6,\n",
    "          \"n_fold\": 5,\n",
    "          \"n_accumulate\": 1,\n",
    "          \"num_classes\": 1,\n",
    "          \"margin\": 0.5,\n",
    "          \"device\": torch.device(\"cuda:0\" if torch.cuda.is_available() else \"cpu\"),\n",
    "          \"hash_name\": HASH_NAME\n",
    "          }\n",
    "\n",
    "CONFIG[\"tokenizer\"] = AutoTokenizer.from_pretrained(CONFIG['model_name'])\n",
    "CONFIG['group'] = f'{HASH_NAME}-Baseline'"
   ]
  },
  {
   "cell_type": "markdown",
   "id": "e83b00dc",
   "metadata": {
    "papermill": {
     "duration": 0.037146,
     "end_time": "2021-12-09T16:39:50.497159",
     "exception": false,
     "start_time": "2021-12-09T16:39:50.460013",
     "status": "completed"
    },
    "tags": []
   },
   "source": [
    "# Random Seed"
   ]
  },
  {
   "cell_type": "code",
   "execution_count": 4,
   "id": "837290c3",
   "metadata": {
    "execution": {
     "iopub.execute_input": "2021-12-09T16:39:50.562642Z",
     "iopub.status.busy": "2021-12-09T16:39:50.561979Z",
     "iopub.status.idle": "2021-12-09T16:39:50.566649Z",
     "shell.execute_reply": "2021-12-09T16:39:50.567030Z",
     "shell.execute_reply.started": "2021-12-09T14:58:30.632922Z"
    },
    "papermill": {
     "duration": 0.039876,
     "end_time": "2021-12-09T16:39:50.567161",
     "exception": false,
     "start_time": "2021-12-09T16:39:50.527285",
     "status": "completed"
    },
    "tags": []
   },
   "outputs": [],
   "source": [
    "def set_seed(seed = 42):\n",
    "    np.random.seed(seed)\n",
    "    torch.manual_seed(seed)\n",
    "    torch.cuda.manual_seed(seed)\n",
    "    torch.backends.cudnn.deteministic = True\n",
    "    torch.backends.cudnn.benchmark = False\n",
    "    os.environ['PYTHONHASHSEED'] = str(seed)\n",
    "\n",
    "set_seed(CONFIG['seed'])"
   ]
  },
  {
   "cell_type": "markdown",
   "id": "20f77de8",
   "metadata": {
    "papermill": {
     "duration": 0.02675,
     "end_time": "2021-12-09T16:39:50.620847",
     "exception": false,
     "start_time": "2021-12-09T16:39:50.594097",
     "status": "completed"
    },
    "tags": []
   },
   "source": [
    "# Data"
   ]
  },
  {
   "cell_type": "code",
   "execution_count": 5,
   "id": "1f681e29",
   "metadata": {
    "execution": {
     "iopub.execute_input": "2021-12-09T16:39:50.679202Z",
     "iopub.status.busy": "2021-12-09T16:39:50.678689Z",
     "iopub.status.idle": "2021-12-09T16:39:50.760991Z",
     "shell.execute_reply": "2021-12-09T16:39:50.761594Z",
     "shell.execute_reply.started": "2021-12-09T14:58:30.645162Z"
    },
    "papermill": {
     "duration": 0.11397,
     "end_time": "2021-12-09T16:39:50.761774",
     "exception": false,
     "start_time": "2021-12-09T16:39:50.647804",
     "status": "completed"
    },
    "tags": []
   },
   "outputs": [
    {
     "name": "stdout",
     "output_type": "stream",
     "text": [
      "(5838, 5)\n"
     ]
    },
    {
     "data": {
      "text/html": [
       "<div>\n",
       "<style scoped>\n",
       "    .dataframe tbody tr th:only-of-type {\n",
       "        vertical-align: middle;\n",
       "    }\n",
       "\n",
       "    .dataframe tbody tr th {\n",
       "        vertical-align: top;\n",
       "    }\n",
       "\n",
       "    .dataframe thead th {\n",
       "        text-align: right;\n",
       "    }\n",
       "</style>\n",
       "<table border=\"1\" class=\"dataframe\">\n",
       "  <thead>\n",
       "    <tr style=\"text-align: right;\">\n",
       "      <th></th>\n",
       "      <th>post_id</th>\n",
       "      <th>comment_id</th>\n",
       "      <th>txt</th>\n",
       "      <th>url</th>\n",
       "      <th>offensiveness_score</th>\n",
       "    </tr>\n",
       "  </thead>\n",
       "  <tbody>\n",
       "    <tr>\n",
       "      <th>0</th>\n",
       "      <td>42g75o</td>\n",
       "      <td>cza1q49</td>\n",
       "      <td>&gt; The difference in average earnings between m...</td>\n",
       "      <td>https://www.reddit.com/r/changemyview/comments...</td>\n",
       "      <td>-0.083</td>\n",
       "    </tr>\n",
       "    <tr>\n",
       "      <th>1</th>\n",
       "      <td>42g75o</td>\n",
       "      <td>cza1wdh</td>\n",
       "      <td>The myth is that the \"gap\" is entirely based o...</td>\n",
       "      <td>https://www.reddit.com/r/changemyview/comments...</td>\n",
       "      <td>-0.022</td>\n",
       "    </tr>\n",
       "    <tr>\n",
       "      <th>2</th>\n",
       "      <td>42g75o</td>\n",
       "      <td>cza23qx</td>\n",
       "      <td>[deleted]</td>\n",
       "      <td>https://www.reddit.com/r/changemyview/comments...</td>\n",
       "      <td>0.167</td>\n",
       "    </tr>\n",
       "    <tr>\n",
       "      <th>3</th>\n",
       "      <td>42g75o</td>\n",
       "      <td>cza2bw8</td>\n",
       "      <td>The assertion is that women get paid less for ...</td>\n",
       "      <td>https://www.reddit.com/r/changemyview/comments...</td>\n",
       "      <td>-0.146</td>\n",
       "    </tr>\n",
       "    <tr>\n",
       "      <th>4</th>\n",
       "      <td>42g75o</td>\n",
       "      <td>cza2iji</td>\n",
       "      <td>You said in the OP that's not what they're mea...</td>\n",
       "      <td>https://www.reddit.com/r/changemyview/comments...</td>\n",
       "      <td>-0.083</td>\n",
       "    </tr>\n",
       "    <tr>\n",
       "      <th>5</th>\n",
       "      <td>42g75o</td>\n",
       "      <td>cza2jj3</td>\n",
       "      <td>&gt;Men and women are not payed less for the same...</td>\n",
       "      <td>https://www.reddit.com/r/changemyview/comments...</td>\n",
       "      <td>-0.042</td>\n",
       "    </tr>\n",
       "    <tr>\n",
       "      <th>6</th>\n",
       "      <td>42g75o</td>\n",
       "      <td>cza31e2</td>\n",
       "      <td>&gt; All the wage gap is, is an average of total ...</td>\n",
       "      <td>https://www.reddit.com/r/changemyview/comments...</td>\n",
       "      <td>-0.021</td>\n",
       "    </tr>\n",
       "    <tr>\n",
       "      <th>7</th>\n",
       "      <td>42g75o</td>\n",
       "      <td>cza321d</td>\n",
       "      <td>[deleted]</td>\n",
       "      <td>https://www.reddit.com/r/changemyview/comments...</td>\n",
       "      <td>-0.021</td>\n",
       "    </tr>\n",
       "    <tr>\n",
       "      <th>8</th>\n",
       "      <td>42g75o</td>\n",
       "      <td>cza336e</td>\n",
       "      <td>[deleted]</td>\n",
       "      <td>https://www.reddit.com/r/changemyview/comments...</td>\n",
       "      <td>0.208</td>\n",
       "    </tr>\n",
       "    <tr>\n",
       "      <th>9</th>\n",
       "      <td>42g75o</td>\n",
       "      <td>cza34dq</td>\n",
       "      <td>[deleted]</td>\n",
       "      <td>https://www.reddit.com/r/changemyview/comments...</td>\n",
       "      <td>-0.191</td>\n",
       "    </tr>\n",
       "  </tbody>\n",
       "</table>\n",
       "</div>"
      ],
      "text/plain": [
       "  post_id comment_id                                                txt  \\\n",
       "0  42g75o    cza1q49  > The difference in average earnings between m...   \n",
       "1  42g75o    cza1wdh  The myth is that the \"gap\" is entirely based o...   \n",
       "2  42g75o    cza23qx                                          [deleted]   \n",
       "3  42g75o    cza2bw8  The assertion is that women get paid less for ...   \n",
       "4  42g75o    cza2iji  You said in the OP that's not what they're mea...   \n",
       "5  42g75o    cza2jj3  >Men and women are not payed less for the same...   \n",
       "6  42g75o    cza31e2  > All the wage gap is, is an average of total ...   \n",
       "7  42g75o    cza321d                                          [deleted]   \n",
       "8  42g75o    cza336e                                          [deleted]   \n",
       "9  42g75o    cza34dq                                          [deleted]   \n",
       "\n",
       "                                                 url  offensiveness_score  \n",
       "0  https://www.reddit.com/r/changemyview/comments...               -0.083  \n",
       "1  https://www.reddit.com/r/changemyview/comments...               -0.022  \n",
       "2  https://www.reddit.com/r/changemyview/comments...                0.167  \n",
       "3  https://www.reddit.com/r/changemyview/comments...               -0.146  \n",
       "4  https://www.reddit.com/r/changemyview/comments...               -0.083  \n",
       "5  https://www.reddit.com/r/changemyview/comments...               -0.042  \n",
       "6  https://www.reddit.com/r/changemyview/comments...               -0.021  \n",
       "7  https://www.reddit.com/r/changemyview/comments...               -0.021  \n",
       "8  https://www.reddit.com/r/changemyview/comments...                0.208  \n",
       "9  https://www.reddit.com/r/changemyview/comments...               -0.191  "
      ]
     },
     "execution_count": 5,
     "metadata": {},
     "output_type": "execute_result"
    }
   ],
   "source": [
    "df = pd.read_csv('../input/ruddit-jigsaw-dataset/Dataset/ruddit_with_text.csv')\n",
    "print(df.shape)\n",
    "df.head(10)"
   ]
  },
  {
   "cell_type": "code",
   "execution_count": 6,
   "id": "d7ecb907",
   "metadata": {
    "execution": {
     "iopub.execute_input": "2021-12-09T16:39:50.821992Z",
     "iopub.status.busy": "2021-12-09T16:39:50.821269Z",
     "iopub.status.idle": "2021-12-09T16:39:50.823442Z",
     "shell.execute_reply": "2021-12-09T16:39:50.823876Z",
     "shell.execute_reply.started": "2021-12-09T14:58:30.745042Z"
    },
    "papermill": {
     "duration": 0.033859,
     "end_time": "2021-12-09T16:39:50.824002",
     "exception": false,
     "start_time": "2021-12-09T16:39:50.790143",
     "status": "completed"
    },
    "tags": []
   },
   "outputs": [],
   "source": [
    "# # Give more weight to severe toxic \n",
    "# df['severe_toxic'] = df.severe_toxic * 10\n",
    "# df['toxic'] = df.toxic * 6 \n",
    "# df['y'] = (df[['toxic', 'severe_toxic', 'obscene', 'threat', 'insult', 'identity_hate']].sum(axis=1) ).astype(int)\n",
    "# df['y'] = df['y']/df['y'].max()\n",
    "\n",
    "# df = df[['comment_text', 'y']].rename(columns={'comment_text': 'text'})\n",
    "# df.sample(5)"
   ]
  },
  {
   "cell_type": "code",
   "execution_count": 7,
   "id": "6b48b1ee",
   "metadata": {
    "execution": {
     "iopub.execute_input": "2021-12-09T16:39:50.896373Z",
     "iopub.status.busy": "2021-12-09T16:39:50.895863Z",
     "iopub.status.idle": "2021-12-09T16:39:50.922927Z",
     "shell.execute_reply": "2021-12-09T16:39:50.923936Z",
     "shell.execute_reply.started": "2021-12-09T14:58:30.751589Z"
    },
    "papermill": {
     "duration": 0.07242,
     "end_time": "2021-12-09T16:39:50.924130",
     "exception": false,
     "start_time": "2021-12-09T16:39:50.851710",
     "status": "completed"
    },
    "tags": []
   },
   "outputs": [
    {
     "data": {
      "text/html": [
       "<div>\n",
       "<style scoped>\n",
       "    .dataframe tbody tr th:only-of-type {\n",
       "        vertical-align: middle;\n",
       "    }\n",
       "\n",
       "    .dataframe tbody tr th {\n",
       "        vertical-align: top;\n",
       "    }\n",
       "\n",
       "    .dataframe thead th {\n",
       "        text-align: right;\n",
       "    }\n",
       "</style>\n",
       "<table border=\"1\" class=\"dataframe\">\n",
       "  <thead>\n",
       "    <tr style=\"text-align: right;\">\n",
       "      <th></th>\n",
       "      <th>text</th>\n",
       "      <th>score</th>\n",
       "    </tr>\n",
       "  </thead>\n",
       "  <tbody>\n",
       "    <tr>\n",
       "      <th>0</th>\n",
       "      <td>&gt; The difference in average earnings between m...</td>\n",
       "      <td>-0.083</td>\n",
       "    </tr>\n",
       "    <tr>\n",
       "      <th>1</th>\n",
       "      <td>The myth is that the \"gap\" is entirely based o...</td>\n",
       "      <td>-0.022</td>\n",
       "    </tr>\n",
       "    <tr>\n",
       "      <th>2</th>\n",
       "      <td>[deleted]</td>\n",
       "      <td>0.167</td>\n",
       "    </tr>\n",
       "    <tr>\n",
       "      <th>3</th>\n",
       "      <td>The assertion is that women get paid less for ...</td>\n",
       "      <td>-0.146</td>\n",
       "    </tr>\n",
       "    <tr>\n",
       "      <th>4</th>\n",
       "      <td>You said in the OP that's not what they're mea...</td>\n",
       "      <td>-0.083</td>\n",
       "    </tr>\n",
       "  </tbody>\n",
       "</table>\n",
       "</div>"
      ],
      "text/plain": [
       "                                                text  score\n",
       "0  > The difference in average earnings between m... -0.083\n",
       "1  The myth is that the \"gap\" is entirely based o... -0.022\n",
       "2                                          [deleted]  0.167\n",
       "3  The assertion is that women get paid less for ... -0.146\n",
       "4  You said in the OP that's not what they're mea... -0.083"
      ]
     },
     "execution_count": 7,
     "metadata": {},
     "output_type": "execute_result"
    }
   ],
   "source": [
    "df = df.dropna()\n",
    "df = df[['txt', 'offensiveness_score']]\n",
    "df.columns = ['text', 'score']\n",
    "df.head()"
   ]
  },
  {
   "cell_type": "code",
   "execution_count": 8,
   "id": "15b85f2a",
   "metadata": {
    "execution": {
     "iopub.execute_input": "2021-12-09T16:39:51.036781Z",
     "iopub.status.busy": "2021-12-09T16:39:51.035605Z",
     "iopub.status.idle": "2021-12-09T16:39:51.042349Z",
     "shell.execute_reply": "2021-12-09T16:39:51.042992Z",
     "shell.execute_reply.started": "2021-12-09T14:58:30.775513Z"
    },
    "papermill": {
     "duration": 0.064782,
     "end_time": "2021-12-09T16:39:51.043198",
     "exception": false,
     "start_time": "2021-12-09T16:39:50.978416",
     "status": "completed"
    },
    "tags": []
   },
   "outputs": [
    {
     "data": {
      "text/plain": [
       "-0.021    166\n",
       " 0.000    154\n",
       "-0.167    139\n",
       "-0.125    130\n",
       "-0.208    127\n",
       "         ... \n",
       "-0.044      1\n",
       "-0.761      1\n",
       " 0.422      1\n",
       "-0.543      1\n",
       " 0.578      1\n",
       "Name: score, Length: 288, dtype: int64"
      ]
     },
     "execution_count": 8,
     "metadata": {},
     "output_type": "execute_result"
    }
   ],
   "source": [
    "df.score.value_counts()"
   ]
  },
  {
   "cell_type": "code",
   "execution_count": 9,
   "id": "652bdaf3",
   "metadata": {
    "execution": {
     "iopub.execute_input": "2021-12-09T16:39:51.152853Z",
     "iopub.status.busy": "2021-12-09T16:39:51.151807Z",
     "iopub.status.idle": "2021-12-09T16:39:51.154440Z",
     "shell.execute_reply": "2021-12-09T16:39:51.153700Z",
     "shell.execute_reply.started": "2021-12-09T14:58:30.789241Z"
    },
    "papermill": {
     "duration": 0.061305,
     "end_time": "2021-12-09T16:39:51.154645",
     "exception": false,
     "start_time": "2021-12-09T16:39:51.093340",
     "status": "completed"
    },
    "tags": []
   },
   "outputs": [],
   "source": [
    "# import numpy as np\n",
    "# import pandas as pd\n",
    "\n",
    "# df1 = pd.read_csv('../input/ruddit-jigsaw-dataset-combined-cleaned/toxic_train.csv')\n",
    "# df1 = df1[['txt', 'offensiveness_score']]\n",
    "# df1.columns = ['text', 'score']\n",
    "# print(df1.shape)\n",
    "# df1.head()"
   ]
  },
  {
   "cell_type": "code",
   "execution_count": 10,
   "id": "485a8c21",
   "metadata": {
    "execution": {
     "iopub.execute_input": "2021-12-09T16:39:51.264385Z",
     "iopub.status.busy": "2021-12-09T16:39:51.263559Z",
     "iopub.status.idle": "2021-12-09T16:39:51.265666Z",
     "shell.execute_reply": "2021-12-09T16:39:51.265097Z",
     "shell.execute_reply.started": "2021-12-09T14:58:30.801216Z"
    },
    "papermill": {
     "duration": 0.057625,
     "end_time": "2021-12-09T16:39:51.265801",
     "exception": false,
     "start_time": "2021-12-09T16:39:51.208176",
     "status": "completed"
    },
    "tags": []
   },
   "outputs": [],
   "source": [
    "# from copy import deepcopy\n",
    "# print(df1.loc[df1.score!=0.0].shape)\n",
    "# df2 = deepcopy(df1.loc[df1.score!=0.0])\n",
    "# df2.head()"
   ]
  },
  {
   "cell_type": "code",
   "execution_count": 11,
   "id": "7ca7c55f",
   "metadata": {
    "execution": {
     "iopub.execute_input": "2021-12-09T16:39:51.361208Z",
     "iopub.status.busy": "2021-12-09T16:39:51.360370Z",
     "iopub.status.idle": "2021-12-09T16:39:51.362613Z",
     "shell.execute_reply": "2021-12-09T16:39:51.361941Z",
     "shell.execute_reply.started": "2021-12-09T14:58:30.807582Z"
    },
    "papermill": {
     "duration": 0.053577,
     "end_time": "2021-12-09T16:39:51.362763",
     "exception": false,
     "start_time": "2021-12-09T16:39:51.309186",
     "status": "completed"
    },
    "tags": []
   },
   "outputs": [],
   "source": [
    "# from copy import deepcopy\n",
    "# df3 = deepcopy(df1.loc[df1.score == 0])\n",
    "# print(df3.shape)\n",
    "# df3.head()"
   ]
  },
  {
   "cell_type": "code",
   "execution_count": 12,
   "id": "206b528d",
   "metadata": {
    "execution": {
     "iopub.execute_input": "2021-12-09T16:39:51.466061Z",
     "iopub.status.busy": "2021-12-09T16:39:51.463830Z",
     "iopub.status.idle": "2021-12-09T16:39:51.467133Z",
     "shell.execute_reply": "2021-12-09T16:39:51.464932Z",
     "shell.execute_reply.started": "2021-12-09T14:58:30.815441Z"
    },
    "papermill": {
     "duration": 0.062791,
     "end_time": "2021-12-09T16:39:51.467364",
     "exception": false,
     "start_time": "2021-12-09T16:39:51.404573",
     "status": "completed"
    },
    "tags": []
   },
   "outputs": [],
   "source": [
    "# df = pd.concat([df, df2],axis = 0)\n",
    "# df = df.reset_index(drop=True)\n",
    "# print(df.shape)\n",
    "# df.tail()"
   ]
  },
  {
   "cell_type": "markdown",
   "id": "7848476c",
   "metadata": {
    "papermill": {
     "duration": 0.046501,
     "end_time": "2021-12-09T16:39:51.566660",
     "exception": false,
     "start_time": "2021-12-09T16:39:51.520159",
     "status": "completed"
    },
    "tags": []
   },
   "source": [
    "# Preprocessing"
   ]
  },
  {
   "cell_type": "code",
   "execution_count": 13,
   "id": "f6b31f01",
   "metadata": {
    "execution": {
     "iopub.execute_input": "2021-12-09T16:39:51.666658Z",
     "iopub.status.busy": "2021-12-09T16:39:51.665796Z",
     "iopub.status.idle": "2021-12-09T16:39:51.668006Z",
     "shell.execute_reply": "2021-12-09T16:39:51.667357Z",
     "shell.execute_reply.started": "2021-12-09T14:58:30.824586Z"
    },
    "papermill": {
     "duration": 0.054959,
     "end_time": "2021-12-09T16:39:51.668154",
     "exception": false,
     "start_time": "2021-12-09T16:39:51.613195",
     "status": "completed"
    },
    "tags": []
   },
   "outputs": [],
   "source": [
    "# nltk.download('stopwords')\n",
    "# STOPWORDS = nltk.corpus.stopwords.words('english')\n",
    "\n",
    "# ## kesha_mandal's code\n",
    "# def washing(comment):\n",
    "\n",
    "#     comment = re.sub('[^a-zA-Z]', ' ', comment)\n",
    "#     comment = comment.lower()\n",
    "#     comment = comment.split()\n",
    "#     stemmer = SnowballStemmer('english')\n",
    "#     lemmatizer = WordNetLemmatizer()\n",
    "#     comment = [stemmer.stem(word) for word in comment if not word in set(STOPWORDS)]\n",
    "#     comment = [lemmatizer.lemmatize(word) for word in comment]\n",
    "#     comment = ' '.join(comment)\n",
    "#     # corpus.append(comment)\n",
    "#     # return corpus\n",
    "#     return comment\n"
   ]
  },
  {
   "cell_type": "code",
   "execution_count": 14,
   "id": "71c7dfe5",
   "metadata": {
    "execution": {
     "iopub.execute_input": "2021-12-09T16:39:51.771646Z",
     "iopub.status.busy": "2021-12-09T16:39:51.770784Z",
     "iopub.status.idle": "2021-12-09T16:39:51.773060Z",
     "shell.execute_reply": "2021-12-09T16:39:51.772367Z",
     "shell.execute_reply.started": "2021-12-09T14:58:30.833965Z"
    },
    "papermill": {
     "duration": 0.058238,
     "end_time": "2021-12-09T16:39:51.773215",
     "exception": false,
     "start_time": "2021-12-09T16:39:51.714977",
     "status": "completed"
    },
    "tags": []
   },
   "outputs": [],
   "source": [
    "# ##  https://www.kaggle.com/manabendrarout/pytorch-roberta-ranking-baseline-jrstc-infer/notebook\n",
    "# def text_cleaning(text):\n",
    "    \n",
    "#     template = re.compile(r'https?://\\S+|www\\.\\S+') #Removes website links\n",
    "#     text = template.sub(r'', text)\n",
    "    \n",
    "#     soup = BeautifulSoup(text, 'lxml') #Removes HTML tags\n",
    "#     only_text = soup.get_text()\n",
    "#     text = only_text\n",
    "    \n",
    "#     emoji_pattern = re.compile(\"[\"\n",
    "#                                u\"\\U0001F600-\\U0001F64F\"  # emoticons\n",
    "#                                u\"\\U0001F300-\\U0001F5FF\"  # symbols & pictographs\n",
    "#                                u\"\\U0001F680-\\U0001F6FF\"  # transport & map symbols\n",
    "#                                u\"\\U0001F1E0-\\U0001F1FF\"  # flags (iOS)\n",
    "#                                u\"\\U00002702-\\U000027B0\"\n",
    "#                                u\"\\U000024C2-\\U0001F251\"\n",
    "#                                \"]+\", flags=re.UNICODE)\n",
    "#     text = emoji_pattern.sub(r'', text)\n",
    "    \n",
    "#     text = re.sub(r\"[^a-zA-Z\\d]\", \" \", text) #Remove special Charecters\n",
    "#     text = re.sub(' +', ' ', text) #Remove Extra Spaces\n",
    "#     text = text.strip() # remove spaces at the beginning and at the end of string\n",
    "\n",
    "#     return text"
   ]
  },
  {
   "cell_type": "code",
   "execution_count": 15,
   "id": "dc08f29f",
   "metadata": {
    "execution": {
     "iopub.execute_input": "2021-12-09T16:39:51.873795Z",
     "iopub.status.busy": "2021-12-09T16:39:51.872936Z",
     "iopub.status.idle": "2021-12-09T16:39:51.875140Z",
     "shell.execute_reply": "2021-12-09T16:39:51.874499Z",
     "shell.execute_reply.started": "2021-12-09T14:58:30.847173Z"
    },
    "papermill": {
     "duration": 0.054451,
     "end_time": "2021-12-09T16:39:51.875284",
     "exception": false,
     "start_time": "2021-12-09T16:39:51.820833",
     "status": "completed"
    },
    "tags": []
   },
   "outputs": [],
   "source": [
    "## https://www.kaggle.com/kishalmandal/most-detailed-eda-tf-idf-and-logistic-reg\n",
    "\n",
    "# df[\"less_toxic\"] = df[\"less_toxic\"].str.replace('fk', 'fuck')\n",
    "# df[\"less_toxic\"] = df[\"less_toxic\"].str.replace('fuk', 'fuck')\n",
    "\n",
    "# df.head(10)"
   ]
  },
  {
   "cell_type": "code",
   "execution_count": 16,
   "id": "1163dc2a",
   "metadata": {
    "execution": {
     "iopub.execute_input": "2021-12-09T16:39:51.975326Z",
     "iopub.status.busy": "2021-12-09T16:39:51.974497Z",
     "iopub.status.idle": "2021-12-09T16:39:51.976677Z",
     "shell.execute_reply": "2021-12-09T16:39:51.976037Z",
     "shell.execute_reply.started": "2021-12-09T14:58:30.855605Z"
    },
    "papermill": {
     "duration": 0.054409,
     "end_time": "2021-12-09T16:39:51.976830",
     "exception": false,
     "start_time": "2021-12-09T16:39:51.922421",
     "status": "completed"
    },
    "tags": []
   },
   "outputs": [],
   "source": [
    "# df['less_toxic'] = df['less_toxic'].apply(text_cleaning)\n",
    "# df['more_toxic'] = df['more_toxic'].apply(text_cleaning)\n",
    "\n",
    "# df.head(10)"
   ]
  },
  {
   "cell_type": "code",
   "execution_count": 17,
   "id": "99d157b1",
   "metadata": {
    "execution": {
     "iopub.execute_input": "2021-12-09T16:39:52.069085Z",
     "iopub.status.busy": "2021-12-09T16:39:52.068294Z",
     "iopub.status.idle": "2021-12-09T16:39:52.070698Z",
     "shell.execute_reply": "2021-12-09T16:39:52.070254Z",
     "shell.execute_reply.started": "2021-12-09T14:58:30.863686Z"
    },
    "papermill": {
     "duration": 0.046817,
     "end_time": "2021-12-09T16:39:52.070811",
     "exception": false,
     "start_time": "2021-12-09T16:39:52.023994",
     "status": "completed"
    },
    "tags": []
   },
   "outputs": [],
   "source": [
    "# df['less_toxic'] = df['less_toxic'].apply(washing)\n",
    "# df['more_toxic'] = df['more_toxic'].apply(washing)\n",
    "\n",
    "# df.head(10)"
   ]
  },
  {
   "cell_type": "markdown",
   "id": "04cd0944",
   "metadata": {
    "papermill": {
     "duration": 0.028443,
     "end_time": "2021-12-09T16:39:52.127620",
     "exception": false,
     "start_time": "2021-12-09T16:39:52.099177",
     "status": "completed"
    },
    "tags": []
   },
   "source": [
    "# KFold"
   ]
  },
  {
   "cell_type": "code",
   "execution_count": 18,
   "id": "04e7d823",
   "metadata": {
    "execution": {
     "iopub.execute_input": "2021-12-09T16:39:52.191539Z",
     "iopub.status.busy": "2021-12-09T16:39:52.190851Z",
     "iopub.status.idle": "2021-12-09T16:39:52.205013Z",
     "shell.execute_reply": "2021-12-09T16:39:52.205480Z",
     "shell.execute_reply.started": "2021-12-09T14:58:30.875548Z"
    },
    "papermill": {
     "duration": 0.049551,
     "end_time": "2021-12-09T16:39:52.205620",
     "exception": false,
     "start_time": "2021-12-09T16:39:52.156069",
     "status": "completed"
    },
    "tags": []
   },
   "outputs": [
    {
     "data": {
      "text/html": [
       "<div>\n",
       "<style scoped>\n",
       "    .dataframe tbody tr th:only-of-type {\n",
       "        vertical-align: middle;\n",
       "    }\n",
       "\n",
       "    .dataframe tbody tr th {\n",
       "        vertical-align: top;\n",
       "    }\n",
       "\n",
       "    .dataframe thead th {\n",
       "        text-align: right;\n",
       "    }\n",
       "</style>\n",
       "<table border=\"1\" class=\"dataframe\">\n",
       "  <thead>\n",
       "    <tr style=\"text-align: right;\">\n",
       "      <th></th>\n",
       "      <th>text</th>\n",
       "      <th>score</th>\n",
       "      <th>kfold</th>\n",
       "    </tr>\n",
       "  </thead>\n",
       "  <tbody>\n",
       "    <tr>\n",
       "      <th>0</th>\n",
       "      <td>&gt; The difference in average earnings between m...</td>\n",
       "      <td>-0.083</td>\n",
       "      <td>0</td>\n",
       "    </tr>\n",
       "    <tr>\n",
       "      <th>1</th>\n",
       "      <td>The myth is that the \"gap\" is entirely based o...</td>\n",
       "      <td>-0.022</td>\n",
       "      <td>0</td>\n",
       "    </tr>\n",
       "    <tr>\n",
       "      <th>2</th>\n",
       "      <td>[deleted]</td>\n",
       "      <td>0.167</td>\n",
       "      <td>4</td>\n",
       "    </tr>\n",
       "    <tr>\n",
       "      <th>3</th>\n",
       "      <td>The assertion is that women get paid less for ...</td>\n",
       "      <td>-0.146</td>\n",
       "      <td>1</td>\n",
       "    </tr>\n",
       "    <tr>\n",
       "      <th>4</th>\n",
       "      <td>You said in the OP that's not what they're mea...</td>\n",
       "      <td>-0.083</td>\n",
       "      <td>2</td>\n",
       "    </tr>\n",
       "  </tbody>\n",
       "</table>\n",
       "</div>"
      ],
      "text/plain": [
       "                                                text  score  kfold\n",
       "0  > The difference in average earnings between m... -0.083      0\n",
       "1  The myth is that the \"gap\" is entirely based o... -0.022      0\n",
       "2                                          [deleted]  0.167      4\n",
       "3  The assertion is that women get paid less for ... -0.146      1\n",
       "4  You said in the OP that's not what they're mea... -0.083      2"
      ]
     },
     "execution_count": 18,
     "metadata": {},
     "output_type": "execute_result"
    }
   ],
   "source": [
    "k = CONFIG['n_fold']\n",
    "skf = KFold(n_splits = k, shuffle = True, random_state = CONFIG['seed'])\n",
    "for fold, (k, v) in enumerate(skf.split(X = df)):\n",
    "    df.loc[v, 'kfold'] = int(fold)\n",
    "\n",
    "df['kfold'] = df['kfold'].astype(int)\n",
    "df.head()"
   ]
  },
  {
   "cell_type": "markdown",
   "id": "a190ff83",
   "metadata": {
    "papermill": {
     "duration": 0.029472,
     "end_time": "2021-12-09T16:39:52.266612",
     "exception": false,
     "start_time": "2021-12-09T16:39:52.237140",
     "status": "completed"
    },
    "tags": []
   },
   "source": [
    "# Dataset"
   ]
  },
  {
   "cell_type": "code",
   "execution_count": 19,
   "id": "fadd2e83",
   "metadata": {
    "execution": {
     "iopub.execute_input": "2021-12-09T16:39:52.376590Z",
     "iopub.status.busy": "2021-12-09T16:39:52.375918Z",
     "iopub.status.idle": "2021-12-09T16:39:52.378599Z",
     "shell.execute_reply": "2021-12-09T16:39:52.378123Z",
     "shell.execute_reply.started": "2021-12-09T14:58:30.897838Z"
    },
    "papermill": {
     "duration": 0.083065,
     "end_time": "2021-12-09T16:39:52.378762",
     "exception": false,
     "start_time": "2021-12-09T16:39:52.295697",
     "status": "completed"
    },
    "tags": []
   },
   "outputs": [],
   "source": [
    "class JDataset(Dataset):\n",
    "    def __init__(self, df, tokenizer, max_length):\n",
    "        \n",
    "        self.df = df\n",
    "        self.max_len = max_length\n",
    "        self.tokenizer = tokenizer\n",
    "        self.text = df['text'].values\n",
    "        self.score = df['score']\n",
    "        \n",
    "    def __len__(self):\n",
    "        return len(self.df)\n",
    "    \n",
    "    def __getitem__(self, index):\n",
    "        text = self.text[index]\n",
    "        inputs = self.tokenizer.encode_plus(text, truncation = True,\n",
    "                                            add_special_tokens = True, \n",
    "                                            max_length = self.max_len,\n",
    "                                            padding = 'max_length')\n",
    "        \n",
    "        ids = inputs['input_ids']\n",
    "        mask = inputs['attention_mask']\n",
    "        target = self.score[index]\n",
    "        \n",
    "        return {'ids' : torch.tensor(ids, dtype = torch.long), \n",
    "                'mask' : torch.tensor(mask, dtype = torch.long),\n",
    "                'target' : torch.tensor(target, dtype = torch.float)\n",
    "               }\n"
   ]
  },
  {
   "cell_type": "markdown",
   "id": "712e9d0c",
   "metadata": {
    "papermill": {
     "duration": 0.028911,
     "end_time": "2021-12-09T16:39:52.436960",
     "exception": false,
     "start_time": "2021-12-09T16:39:52.408049",
     "status": "completed"
    },
    "tags": []
   },
   "source": [
    "# prepare_loader Function"
   ]
  },
  {
   "cell_type": "code",
   "execution_count": 20,
   "id": "7b7189e9",
   "metadata": {
    "execution": {
     "iopub.execute_input": "2021-12-09T16:39:52.502142Z",
     "iopub.status.busy": "2021-12-09T16:39:52.501341Z",
     "iopub.status.idle": "2021-12-09T16:39:52.503303Z",
     "shell.execute_reply": "2021-12-09T16:39:52.503766Z",
     "shell.execute_reply.started": "2021-12-09T14:58:30.909325Z"
    },
    "papermill": {
     "duration": 0.037957,
     "end_time": "2021-12-09T16:39:52.503886",
     "exception": false,
     "start_time": "2021-12-09T16:39:52.465929",
     "status": "completed"
    },
    "tags": []
   },
   "outputs": [],
   "source": [
    "def prepare_loaders(fold):\n",
    "    \n",
    "    df_train = df[df.kfold != fold].reset_index(drop = True)\n",
    "    df_valid = df[df.kfold == fold].reset_index(drop = True)\n",
    "    \n",
    "    train_dataset = JDataset(df_train, tokenizer = CONFIG['tokenizer'], max_length = CONFIG['max_length'])\n",
    "    valid_dataset = JDataset(df_valid, tokenizer = CONFIG['tokenizer'], max_length = CONFIG['max_length'])\n",
    "    \n",
    "    train_loader = DataLoader(train_dataset, \n",
    "                              batch_size = CONFIG['train_batch_size'],\n",
    "                              num_workers = os.cpu_count(),\n",
    "                              shuffle = True, \n",
    "                              pin_memory = True,\n",
    "                              drop_last = True)\n",
    "    \n",
    "    valid_loader = DataLoader(valid_dataset, \n",
    "                              batch_size = CONFIG['train_batch_size'],\n",
    "                              num_workers = os.cpu_count(),\n",
    "                              shuffle = False,\n",
    "                              pin_memory = True)\n",
    "    \n",
    "    return train_loader, valid_loader"
   ]
  },
  {
   "cell_type": "markdown",
   "id": "191f30bc",
   "metadata": {
    "papermill": {
     "duration": 0.029076,
     "end_time": "2021-12-09T16:39:52.562524",
     "exception": false,
     "start_time": "2021-12-09T16:39:52.533448",
     "status": "completed"
    },
    "tags": []
   },
   "source": [
    "# Model"
   ]
  },
  {
   "cell_type": "code",
   "execution_count": 21,
   "id": "b5fdb3e5",
   "metadata": {
    "execution": {
     "iopub.execute_input": "2021-12-09T16:39:52.626348Z",
     "iopub.status.busy": "2021-12-09T16:39:52.625603Z",
     "iopub.status.idle": "2021-12-09T16:39:52.628042Z",
     "shell.execute_reply": "2021-12-09T16:39:52.627634Z",
     "shell.execute_reply.started": "2021-12-09T14:58:30.920705Z"
    },
    "papermill": {
     "duration": 0.036709,
     "end_time": "2021-12-09T16:39:52.628146",
     "exception": false,
     "start_time": "2021-12-09T16:39:52.591437",
     "status": "completed"
    },
    "tags": []
   },
   "outputs": [],
   "source": [
    "class Model(nn.Module):\n",
    "    \n",
    "    def __init__(self, model_name):\n",
    "        super().__init__()\n",
    "        self.model = AutoModel.from_pretrained(model_name)\n",
    "        self.dropout = nn.Dropout(p = 0.2)\n",
    "        self.linear = nn.Linear(768, CONFIG['num_classes'])\n",
    "#         self.sigmoid = nn.Sigmoid()\n",
    "    \n",
    "    def forward(self, ids, mask):\n",
    "        model_out = self.model(input_ids = ids,\n",
    "                               attention_mask = mask,\n",
    "                               output_hidden_states = False)\n",
    "        \n",
    "        out = self.dropout(model_out[1])\n",
    "        output = self.linear(out)\n",
    "#         outputs = self.sigmoid(output)\n",
    "        return output"
   ]
  },
  {
   "cell_type": "markdown",
   "id": "45969b31",
   "metadata": {
    "papermill": {
     "duration": 0.029598,
     "end_time": "2021-12-09T16:39:52.686620",
     "exception": false,
     "start_time": "2021-12-09T16:39:52.657022",
     "status": "completed"
    },
    "tags": []
   },
   "source": [
    "# Loss Function"
   ]
  },
  {
   "cell_type": "code",
   "execution_count": 22,
   "id": "cb842492",
   "metadata": {
    "execution": {
     "iopub.execute_input": "2021-12-09T16:39:52.748097Z",
     "iopub.status.busy": "2021-12-09T16:39:52.747415Z",
     "iopub.status.idle": "2021-12-09T16:39:52.749518Z",
     "shell.execute_reply": "2021-12-09T16:39:52.750014Z",
     "shell.execute_reply.started": "2021-12-09T14:58:30.932485Z"
    },
    "papermill": {
     "duration": 0.034576,
     "end_time": "2021-12-09T16:39:52.750129",
     "exception": false,
     "start_time": "2021-12-09T16:39:52.715553",
     "status": "completed"
    },
    "tags": []
   },
   "outputs": [],
   "source": [
    "loss_fn = nn.MSELoss()\n",
    "# loss_fn = nn.BCELoss()\n",
    "# loss_fn= nn.BCEWithLogitsLoss()"
   ]
  },
  {
   "cell_type": "markdown",
   "id": "2ec0e1f7",
   "metadata": {
    "papermill": {
     "duration": 0.028625,
     "end_time": "2021-12-09T16:39:52.807568",
     "exception": false,
     "start_time": "2021-12-09T16:39:52.778943",
     "status": "completed"
    },
    "tags": []
   },
   "source": [
    "# Train one Epoch Function"
   ]
  },
  {
   "cell_type": "code",
   "execution_count": 23,
   "id": "8e284510",
   "metadata": {
    "execution": {
     "iopub.execute_input": "2021-12-09T16:39:52.873700Z",
     "iopub.status.busy": "2021-12-09T16:39:52.872925Z",
     "iopub.status.idle": "2021-12-09T16:39:52.877397Z",
     "shell.execute_reply": "2021-12-09T16:39:52.876950Z",
     "shell.execute_reply.started": "2021-12-09T14:58:30.940797Z"
    },
    "papermill": {
     "duration": 0.040885,
     "end_time": "2021-12-09T16:39:52.877525",
     "exception": false,
     "start_time": "2021-12-09T16:39:52.836640",
     "status": "completed"
    },
    "tags": []
   },
   "outputs": [],
   "source": [
    "def train_one_epoch(model, optimizer, scheduler, dataloader, device, epoch):\n",
    "    \n",
    "    model.train()\n",
    "    \n",
    "    dataset_size = 0\n",
    "    running_loss = 0.\n",
    "    \n",
    "    bar = tqdm(enumerate(dataloader), total = len(dataloader))\n",
    "    \n",
    "    for step, data in bar:\n",
    "        \n",
    "        ids = data['ids'].to(device, dtype = torch.long)\n",
    "        mask = data['mask'].to(device, dtype = torch.long)\n",
    "        \n",
    "        targets = data['target'].to(device, dtype = torch.float)\n",
    "        targets= targets.reshape(-1, 1)\n",
    "        \n",
    "        batch_size = ids.size(0)\n",
    "        \n",
    "        outputs = model(ids, mask)\n",
    "        \n",
    "        loss = loss_fn(outputs, targets)\n",
    "        loss = loss / CONFIG['n_accumulate']\n",
    "        loss.backward()\n",
    "        \n",
    "        if (step + 1) % CONFIG['n_accumulate'] == 0:\n",
    "            optimizer.step()\n",
    "            optimizer.zero_grad()\n",
    "            \n",
    "            if scheduler is not None:\n",
    "                scheduler.step()\n",
    "        \n",
    "        running_loss += (loss.item() * batch_size)\n",
    "        dataset_size += batch_size\n",
    "        \n",
    "        epoch_loss = running_loss / dataset_size\n",
    "        bar.set_postfix(Epoch = epoch, Train_Loss = epoch_loss, LR = optimizer.param_groups[0]['lr'])\n",
    "        \n",
    "    gc.collect()\n",
    "    \n",
    "    return epoch_loss"
   ]
  },
  {
   "cell_type": "markdown",
   "id": "f41fa276",
   "metadata": {
    "papermill": {
     "duration": 0.028933,
     "end_time": "2021-12-09T16:39:52.936302",
     "exception": false,
     "start_time": "2021-12-09T16:39:52.907369",
     "status": "completed"
    },
    "tags": []
   },
   "source": [
    "# Validation Function"
   ]
  },
  {
   "cell_type": "code",
   "execution_count": 24,
   "id": "906a6767",
   "metadata": {
    "execution": {
     "iopub.execute_input": "2021-12-09T16:39:53.002044Z",
     "iopub.status.busy": "2021-12-09T16:39:53.001362Z",
     "iopub.status.idle": "2021-12-09T16:39:53.004051Z",
     "shell.execute_reply": "2021-12-09T16:39:53.003623Z",
     "shell.execute_reply.started": "2021-12-09T14:58:30.953651Z"
    },
    "papermill": {
     "duration": 0.038767,
     "end_time": "2021-12-09T16:39:53.004150",
     "exception": false,
     "start_time": "2021-12-09T16:39:52.965383",
     "status": "completed"
    },
    "tags": []
   },
   "outputs": [],
   "source": [
    "@torch.no_grad()\n",
    "def valid_one_epoch(model, dataloader, device, epoch):\n",
    "    \n",
    "    model.eval()\n",
    "    \n",
    "    dataset_size = 0\n",
    "    running_loss = 0.\n",
    "    \n",
    "    bar = tqdm(enumerate(dataloader), total = len(dataloader))\n",
    "    \n",
    "    for step, data in bar:\n",
    "        \n",
    "        ids = data['ids'].to(device, dtype = torch.long)\n",
    "        mask = data['mask'].to(device, dtype = torch.long)\n",
    "        \n",
    "        targets = data['target'].to(device, dtype = torch.float)\n",
    "        targets= targets.reshape(-1, 1)\n",
    "        batch_size = ids.size(0)\n",
    "        \n",
    "        outputs = model(ids, mask)\n",
    "#         outputs\n",
    "        loss = loss_fn(outputs, targets)\n",
    "        \n",
    "        running_loss += (loss.item() * batch_size)\n",
    "        dataset_size += batch_size\n",
    "        \n",
    "        epoch_loss = running_loss / dataset_size\n",
    "        bar.set_postfix(Epoch = epoch, Train_Loss = epoch_loss, LR = optimizer.param_groups[0]['lr'])\n",
    "        \n",
    "    gc.collect()\n",
    "    \n",
    "    return epoch_loss"
   ]
  },
  {
   "cell_type": "markdown",
   "id": "c0c23b54",
   "metadata": {
    "papermill": {
     "duration": 0.02913,
     "end_time": "2021-12-09T16:39:53.062186",
     "exception": false,
     "start_time": "2021-12-09T16:39:53.033056",
     "status": "completed"
    },
    "tags": []
   },
   "source": [
    "# Run Training Function"
   ]
  },
  {
   "cell_type": "code",
   "execution_count": 25,
   "id": "fec495cf",
   "metadata": {
    "execution": {
     "iopub.execute_input": "2021-12-09T16:39:53.130087Z",
     "iopub.status.busy": "2021-12-09T16:39:53.128232Z",
     "iopub.status.idle": "2021-12-09T16:39:53.132568Z",
     "shell.execute_reply": "2021-12-09T16:39:53.132109Z",
     "shell.execute_reply.started": "2021-12-09T14:58:30.965709Z"
    },
    "papermill": {
     "duration": 0.041136,
     "end_time": "2021-12-09T16:39:53.132675",
     "exception": false,
     "start_time": "2021-12-09T16:39:53.091539",
     "status": "completed"
    },
    "tags": []
   },
   "outputs": [],
   "source": [
    "def run_training(model, optimizer, scheduler, device, num_epochs, fold):\n",
    "    \n",
    "    if torch.cuda.is_available():\n",
    "        print(f\"Using GPU: {torch.cuda.get_device_name()}\")\n",
    "        print()\n",
    "        \n",
    "    start = time.time()\n",
    "    best_model_wts = copy.deepcopy(model.state_dict())\n",
    "    best_epoch_loss = np.inf\n",
    "    history = defaultdict(list)\n",
    "    \n",
    "    for epoch in range(1, num_epochs + 1):\n",
    "        gc.collect()\n",
    "        train_epoch_loss = train_one_epoch(model, optimizer, scheduler, dataloader = train_loader, device = CONFIG['device'], epoch = epoch)\n",
    "        valid_epoch_loss = valid_one_epoch(model, dataloader = valid_loader, device = CONFIG['device'], epoch = epoch)\n",
    "        \n",
    "        history['Train Loss'].append(train_epoch_loss)\n",
    "        history['Valid Loss'].append(valid_epoch_loss)\n",
    "        \n",
    "        if valid_epoch_loss <= best_epoch_loss:\n",
    "            print(f\"{b_} Validation Loss Improved: [{best_epoch_loss} ---> {valid_epoch_loss}]\")\n",
    "            best_epoch_loss = valid_epoch_loss\n",
    "#             run.summary['Best Loss'] = best_epoch_loss\n",
    "            best_model_wts = copy.deepcopy(model.state_dict())\n",
    "            PATH = f\"Loss-Fold-{fold}.bin\"\n",
    "            torch.save(model.state_dict(), PATH)\n",
    "            print(f\"Model Saved{sr_}\")\n",
    "            \n",
    "        print()\n",
    "        \n",
    "    end = time.time()\n",
    "    time_elapsed = end - start\n",
    "    print('Training complete in {:.0f}h {:.0f}m {:.0f}s'.format(\n",
    "        time_elapsed // 3600, (time_elapsed % 3600) // 60, (time_elapsed % 3600) % 60))\n",
    "    print(\"Best Loss: {:.4f}\".format(best_epoch_loss))\n",
    "    \n",
    "    # load best model weights\n",
    "    model.load_state_dict(best_model_wts)\n",
    "    \n",
    "    return model, history"
   ]
  },
  {
   "cell_type": "markdown",
   "id": "8029fee7",
   "metadata": {
    "papermill": {
     "duration": 0.029625,
     "end_time": "2021-12-09T16:39:53.191119",
     "exception": false,
     "start_time": "2021-12-09T16:39:53.161494",
     "status": "completed"
    },
    "tags": []
   },
   "source": [
    "# fetch_scheduler function"
   ]
  },
  {
   "cell_type": "code",
   "execution_count": 26,
   "id": "ef9fe2a6",
   "metadata": {
    "execution": {
     "iopub.execute_input": "2021-12-09T16:39:53.257843Z",
     "iopub.status.busy": "2021-12-09T16:39:53.257101Z",
     "iopub.status.idle": "2021-12-09T16:39:53.259454Z",
     "shell.execute_reply": "2021-12-09T16:39:53.259037Z",
     "shell.execute_reply.started": "2021-12-09T14:58:30.979128Z"
    },
    "papermill": {
     "duration": 0.037462,
     "end_time": "2021-12-09T16:39:53.259586",
     "exception": false,
     "start_time": "2021-12-09T16:39:53.222124",
     "status": "completed"
    },
    "tags": []
   },
   "outputs": [],
   "source": [
    "def fetch_scheduler(optimizer):\n",
    "    if CONFIG['scheduler'] == 'CosineAnnealingLR':\n",
    "        scheduler = lr_scheduler.CosineAnnealingLR(optimizer, \n",
    "                                                   T_max = CONFIG['T_max'],\n",
    "                                                   eta_min = CONFIG['min_lr'])\n",
    "        \n",
    "    elif CONFIG['scheduler'] == 'CosineAnnealingWarmRestarts':\n",
    "        scheduler = lr_scheduler.CosineAnnealingWarmRestarts(optimizer,\n",
    "                                                             T_0 = CONFIG['T_0'],\n",
    "                                                             eta_min = CONFIG['min_lr'])\n",
    "        \n",
    "    \n",
    "    elif CONFIG['scheduler'] == None:\n",
    "        return None\n",
    "    \n",
    "    return scheduler"
   ]
  },
  {
   "cell_type": "markdown",
   "id": "d3585215",
   "metadata": {
    "papermill": {
     "duration": 0.029006,
     "end_time": "2021-12-09T16:39:53.317709",
     "exception": false,
     "start_time": "2021-12-09T16:39:53.288703",
     "status": "completed"
    },
    "tags": []
   },
   "source": [
    "# Let's Try Run"
   ]
  },
  {
   "cell_type": "code",
   "execution_count": 27,
   "id": "8ce315f9",
   "metadata": {
    "execution": {
     "iopub.execute_input": "2021-12-09T16:39:53.383096Z",
     "iopub.status.busy": "2021-12-09T16:39:53.382409Z",
     "iopub.status.idle": "2021-12-09T17:41:13.098407Z",
     "shell.execute_reply": "2021-12-09T17:41:13.032394Z",
     "shell.execute_reply.started": "2021-12-09T14:58:30.989818Z"
    },
    "papermill": {
     "duration": 3679.751878,
     "end_time": "2021-12-09T17:41:13.098568",
     "exception": false,
     "start_time": "2021-12-09T16:39:53.346690",
     "status": "completed"
    },
    "tags": []
   },
   "outputs": [
    {
     "name": "stdout",
     "output_type": "stream",
     "text": [
      "\u001b[33m===== Fold: 0 =====\u001b[0m\n"
     ]
    },
    {
     "data": {
      "application/vnd.jupyter.widget-view+json": {
       "model_id": "b43549f587a44fb9a2d0c4cc376ed2e2",
       "version_major": 2,
       "version_minor": 0
      },
      "text/plain": [
       "Downloading:   0%|          | 0.00/501M [00:00<?, ?B/s]"
      ]
     },
     "metadata": {},
     "output_type": "display_data"
    },
    {
     "name": "stdout",
     "output_type": "stream",
     "text": [
      "Using GPU: Tesla P100-PCIE-16GB\n",
      "\n"
     ]
    },
    {
     "name": "stderr",
     "output_type": "stream",
     "text": [
      "100%|██████████| 145/145 [01:06<00:00,  2.18it/s, Epoch=1, LR=8.08e-5, Train_Loss=0.118]\n",
      "100%|██████████| 37/37 [00:05<00:00,  6.85it/s, Epoch=1, LR=8.08e-5, Train_Loss=0.0882]\n"
     ]
    },
    {
     "name": "stdout",
     "output_type": "stream",
     "text": [
      "\u001b[34m Validation Loss Improved: [inf ---> 0.08819059553007556]\n",
      "Model Saved\u001b[0m\n",
      "\n"
     ]
    },
    {
     "name": "stderr",
     "output_type": "stream",
     "text": [
      "100%|██████████| 145/145 [01:05<00:00,  2.21it/s, Epoch=2, LR=3.82e-5, Train_Loss=0.112]\n",
      "100%|██████████| 37/37 [00:05<00:00,  7.14it/s, Epoch=2, LR=3.82e-5, Train_Loss=0.0771]\n"
     ]
    },
    {
     "name": "stdout",
     "output_type": "stream",
     "text": [
      "\u001b[34m Validation Loss Improved: [0.08819059553007556 ---> 0.07707314509643268]\n",
      "Model Saved\u001b[0m\n",
      "\n"
     ]
    },
    {
     "name": "stderr",
     "output_type": "stream",
     "text": [
      "100%|██████████| 145/145 [01:05<00:00,  2.22it/s, Epoch=3, LR=5.07e-6, Train_Loss=0.0681]\n",
      "100%|██████████| 37/37 [00:05<00:00,  7.03it/s, Epoch=3, LR=5.07e-6, Train_Loss=0.05]\n"
     ]
    },
    {
     "name": "stdout",
     "output_type": "stream",
     "text": [
      "\u001b[34m Validation Loss Improved: [0.07707314509643268 ---> 0.0500470710127321]\n",
      "Model Saved\u001b[0m\n",
      "\n"
     ]
    },
    {
     "name": "stderr",
     "output_type": "stream",
     "text": [
      "100%|██████████| 145/145 [01:05<00:00,  2.20it/s, Epoch=4, LR=7.12e-6, Train_Loss=0.0489]\n",
      "100%|██████████| 37/37 [00:05<00:00,  7.13it/s, Epoch=4, LR=7.12e-6, Train_Loss=0.0439]\n"
     ]
    },
    {
     "name": "stdout",
     "output_type": "stream",
     "text": [
      "\u001b[34m Validation Loss Improved: [0.0500470710127321 ---> 0.04393011469342937]\n",
      "Model Saved\u001b[0m\n",
      "\n"
     ]
    },
    {
     "name": "stderr",
     "output_type": "stream",
     "text": [
      "100%|██████████| 145/145 [01:05<00:00,  2.21it/s, Epoch=5, LR=4.28e-5, Train_Loss=0.048]\n",
      "100%|██████████| 37/37 [00:05<00:00,  7.14it/s, Epoch=5, LR=4.28e-5, Train_Loss=0.0478]\n"
     ]
    },
    {
     "name": "stdout",
     "output_type": "stream",
     "text": [
      "\n"
     ]
    },
    {
     "name": "stderr",
     "output_type": "stream",
     "text": [
      "100%|██████████| 145/145 [01:05<00:00,  2.22it/s, Epoch=6, LR=8.44e-5, Train_Loss=0.0436]\n",
      "100%|██████████| 37/37 [00:05<00:00,  6.48it/s, Epoch=6, LR=8.44e-5, Train_Loss=0.0391]\n"
     ]
    },
    {
     "name": "stdout",
     "output_type": "stream",
     "text": [
      "\u001b[34m Validation Loss Improved: [0.04393011469342937 ---> 0.039109795724284156]\n",
      "Model Saved\u001b[0m\n",
      "\n"
     ]
    },
    {
     "name": "stderr",
     "output_type": "stream",
     "text": [
      "100%|██████████| 145/145 [01:06<00:00,  2.19it/s, Epoch=7, LR=9.98e-5, Train_Loss=0.0438]\n",
      "100%|██████████| 37/37 [00:05<00:00,  7.15it/s, Epoch=7, LR=9.98e-5, Train_Loss=0.0485]\n"
     ]
    },
    {
     "name": "stdout",
     "output_type": "stream",
     "text": [
      "\n"
     ]
    },
    {
     "name": "stderr",
     "output_type": "stream",
     "text": [
      "100%|██████████| 145/145 [01:05<00:00,  2.21it/s, Epoch=8, LR=7.7e-5, Train_Loss=0.047]\n",
      "100%|██████████| 37/37 [00:05<00:00,  7.00it/s, Epoch=8, LR=7.7e-5, Train_Loss=0.0402]\n"
     ]
    },
    {
     "name": "stdout",
     "output_type": "stream",
     "text": [
      "\n"
     ]
    },
    {
     "name": "stderr",
     "output_type": "stream",
     "text": [
      "100%|██████████| 145/145 [01:05<00:00,  2.21it/s, Epoch=9, LR=3.37e-5, Train_Loss=0.0276]\n",
      "100%|██████████| 37/37 [00:05<00:00,  7.09it/s, Epoch=9, LR=3.37e-5, Train_Loss=0.0457]\n"
     ]
    },
    {
     "name": "stdout",
     "output_type": "stream",
     "text": [
      "\n"
     ]
    },
    {
     "name": "stderr",
     "output_type": "stream",
     "text": [
      "100%|██████████| 145/145 [01:06<00:00,  2.20it/s, Epoch=10, LR=3.42e-6, Train_Loss=0.0216]\n",
      "100%|██████████| 37/37 [00:05<00:00,  6.56it/s, Epoch=10, LR=3.42e-6, Train_Loss=0.0375]\n"
     ]
    },
    {
     "name": "stdout",
     "output_type": "stream",
     "text": [
      "\u001b[34m Validation Loss Improved: [0.039109795724284156 ---> 0.03746478637195613]\n",
      "Model Saved\u001b[0m\n",
      "\n",
      "Training complete in 0h 12m 5s\n",
      "Best Loss: 0.0375\n",
      "\n",
      "\u001b[33m===== Fold: 1 =====\u001b[0m\n",
      "Using GPU: Tesla P100-PCIE-16GB\n",
      "\n"
     ]
    },
    {
     "name": "stderr",
     "output_type": "stream",
     "text": [
      "100%|██████████| 145/145 [01:05<00:00,  2.21it/s, Epoch=1, LR=8.08e-5, Train_Loss=0.0706]\n",
      "100%|██████████| 37/37 [00:05<00:00,  6.95it/s, Epoch=1, LR=8.08e-5, Train_Loss=0.0396]\n"
     ]
    },
    {
     "name": "stdout",
     "output_type": "stream",
     "text": [
      "\u001b[34m Validation Loss Improved: [inf ---> 0.03961909751165403]\n",
      "Model Saved\u001b[0m\n",
      "\n"
     ]
    },
    {
     "name": "stderr",
     "output_type": "stream",
     "text": [
      "100%|██████████| 145/145 [01:05<00:00,  2.21it/s, Epoch=2, LR=3.82e-5, Train_Loss=0.0347]\n",
      "100%|██████████| 37/37 [00:05<00:00,  7.12it/s, Epoch=2, LR=3.82e-5, Train_Loss=0.0324]\n"
     ]
    },
    {
     "name": "stdout",
     "output_type": "stream",
     "text": [
      "\u001b[34m Validation Loss Improved: [0.03961909751165403 ---> 0.03241206674951397]\n",
      "Model Saved\u001b[0m\n",
      "\n"
     ]
    },
    {
     "name": "stderr",
     "output_type": "stream",
     "text": [
      "100%|██████████| 145/145 [01:05<00:00,  2.21it/s, Epoch=3, LR=5.07e-6, Train_Loss=0.0286]\n",
      "100%|██████████| 37/37 [00:05<00:00,  6.90it/s, Epoch=3, LR=5.07e-6, Train_Loss=0.0282]\n"
     ]
    },
    {
     "name": "stdout",
     "output_type": "stream",
     "text": [
      "\u001b[34m Validation Loss Improved: [0.03241206674951397 ---> 0.028225470334291458]\n",
      "Model Saved\u001b[0m\n",
      "\n"
     ]
    },
    {
     "name": "stderr",
     "output_type": "stream",
     "text": [
      "100%|██████████| 145/145 [01:05<00:00,  2.21it/s, Epoch=4, LR=7.12e-6, Train_Loss=0.0225]\n",
      "100%|██████████| 37/37 [00:05<00:00,  6.98it/s, Epoch=4, LR=7.12e-6, Train_Loss=0.0285]\n"
     ]
    },
    {
     "name": "stdout",
     "output_type": "stream",
     "text": [
      "\n"
     ]
    },
    {
     "name": "stderr",
     "output_type": "stream",
     "text": [
      "100%|██████████| 145/145 [01:06<00:00,  2.19it/s, Epoch=5, LR=4.28e-5, Train_Loss=0.0231]\n",
      "100%|██████████| 37/37 [00:05<00:00,  7.10it/s, Epoch=5, LR=4.28e-5, Train_Loss=0.0293]\n"
     ]
    },
    {
     "name": "stdout",
     "output_type": "stream",
     "text": [
      "\n"
     ]
    },
    {
     "name": "stderr",
     "output_type": "stream",
     "text": [
      "100%|██████████| 145/145 [01:06<00:00,  2.19it/s, Epoch=6, LR=8.44e-5, Train_Loss=0.0269]\n",
      "100%|██████████| 37/37 [00:05<00:00,  6.86it/s, Epoch=6, LR=8.44e-5, Train_Loss=0.0356]\n"
     ]
    },
    {
     "name": "stdout",
     "output_type": "stream",
     "text": [
      "\n"
     ]
    },
    {
     "name": "stderr",
     "output_type": "stream",
     "text": [
      "100%|██████████| 145/145 [01:06<00:00,  2.20it/s, Epoch=7, LR=9.98e-5, Train_Loss=0.0246]\n",
      "100%|██████████| 37/37 [00:05<00:00,  7.15it/s, Epoch=7, LR=9.98e-5, Train_Loss=0.0292]\n"
     ]
    },
    {
     "name": "stdout",
     "output_type": "stream",
     "text": [
      "\n"
     ]
    },
    {
     "name": "stderr",
     "output_type": "stream",
     "text": [
      "100%|██████████| 145/145 [01:06<00:00,  2.20it/s, Epoch=8, LR=7.7e-5, Train_Loss=0.0193]\n",
      "100%|██████████| 37/37 [00:05<00:00,  6.66it/s, Epoch=8, LR=7.7e-5, Train_Loss=0.0307]\n"
     ]
    },
    {
     "name": "stdout",
     "output_type": "stream",
     "text": [
      "\n"
     ]
    },
    {
     "name": "stderr",
     "output_type": "stream",
     "text": [
      "100%|██████████| 145/145 [01:06<00:00,  2.19it/s, Epoch=9, LR=3.37e-5, Train_Loss=0.0149]\n",
      "100%|██████████| 37/37 [00:05<00:00,  6.96it/s, Epoch=9, LR=3.37e-5, Train_Loss=0.0317]\n"
     ]
    },
    {
     "name": "stdout",
     "output_type": "stream",
     "text": [
      "\n"
     ]
    },
    {
     "name": "stderr",
     "output_type": "stream",
     "text": [
      "100%|██████████| 145/145 [01:05<00:00,  2.20it/s, Epoch=10, LR=3.42e-6, Train_Loss=0.011]\n",
      "100%|██████████| 37/37 [00:05<00:00,  7.10it/s, Epoch=10, LR=3.42e-6, Train_Loss=0.0294]\n"
     ]
    },
    {
     "name": "stdout",
     "output_type": "stream",
     "text": [
      "\n",
      "Training complete in 0h 12m 3s\n",
      "Best Loss: 0.0282\n",
      "\n",
      "\u001b[33m===== Fold: 2 =====\u001b[0m\n",
      "Using GPU: Tesla P100-PCIE-16GB\n",
      "\n"
     ]
    },
    {
     "name": "stderr",
     "output_type": "stream",
     "text": [
      "100%|██████████| 145/145 [01:05<00:00,  2.20it/s, Epoch=1, LR=8.08e-5, Train_Loss=0.0626]\n",
      "100%|██████████| 37/37 [00:05<00:00,  6.90it/s, Epoch=1, LR=8.08e-5, Train_Loss=0.0389]\n"
     ]
    },
    {
     "name": "stdout",
     "output_type": "stream",
     "text": [
      "\u001b[34m Validation Loss Improved: [inf ---> 0.03894520563724106]\n",
      "Model Saved\u001b[0m\n",
      "\n"
     ]
    },
    {
     "name": "stderr",
     "output_type": "stream",
     "text": [
      "100%|██████████| 145/145 [01:06<00:00,  2.19it/s, Epoch=2, LR=3.82e-5, Train_Loss=0.0332]\n",
      "100%|██████████| 37/37 [00:05<00:00,  6.97it/s, Epoch=2, LR=3.82e-5, Train_Loss=0.0306]\n"
     ]
    },
    {
     "name": "stdout",
     "output_type": "stream",
     "text": [
      "\u001b[34m Validation Loss Improved: [0.03894520563724106 ---> 0.030592967233020966]\n",
      "Model Saved\u001b[0m\n",
      "\n"
     ]
    },
    {
     "name": "stderr",
     "output_type": "stream",
     "text": [
      "100%|██████████| 145/145 [01:06<00:00,  2.19it/s, Epoch=3, LR=5.07e-6, Train_Loss=0.024]\n",
      "100%|██████████| 37/37 [00:05<00:00,  6.58it/s, Epoch=3, LR=5.07e-6, Train_Loss=0.0283]\n"
     ]
    },
    {
     "name": "stdout",
     "output_type": "stream",
     "text": [
      "\u001b[34m Validation Loss Improved: [0.030592967233020966 ---> 0.02832654488515364]\n",
      "Model Saved\u001b[0m\n",
      "\n"
     ]
    },
    {
     "name": "stderr",
     "output_type": "stream",
     "text": [
      "100%|██████████| 145/145 [01:06<00:00,  2.20it/s, Epoch=4, LR=7.12e-6, Train_Loss=0.0197]\n",
      "100%|██████████| 37/37 [00:05<00:00,  7.03it/s, Epoch=4, LR=7.12e-6, Train_Loss=0.0285]\n"
     ]
    },
    {
     "name": "stdout",
     "output_type": "stream",
     "text": [
      "\n"
     ]
    },
    {
     "name": "stderr",
     "output_type": "stream",
     "text": [
      "100%|██████████| 145/145 [01:06<00:00,  2.19it/s, Epoch=5, LR=4.28e-5, Train_Loss=0.0209]\n",
      "100%|██████████| 37/37 [00:05<00:00,  7.06it/s, Epoch=5, LR=4.28e-5, Train_Loss=0.0275]\n"
     ]
    },
    {
     "name": "stdout",
     "output_type": "stream",
     "text": [
      "\u001b[34m Validation Loss Improved: [0.02832654488515364 ---> 0.0275099923808689]\n",
      "Model Saved\u001b[0m\n",
      "\n"
     ]
    },
    {
     "name": "stderr",
     "output_type": "stream",
     "text": [
      "100%|██████████| 145/145 [01:06<00:00,  2.18it/s, Epoch=6, LR=8.44e-5, Train_Loss=0.0263]\n",
      "100%|██████████| 37/37 [00:05<00:00,  6.78it/s, Epoch=6, LR=8.44e-5, Train_Loss=0.0597]\n"
     ]
    },
    {
     "name": "stdout",
     "output_type": "stream",
     "text": [
      "\n"
     ]
    },
    {
     "name": "stderr",
     "output_type": "stream",
     "text": [
      "100%|██████████| 145/145 [01:06<00:00,  2.18it/s, Epoch=7, LR=9.98e-5, Train_Loss=0.0301]\n",
      "100%|██████████| 37/37 [00:05<00:00,  7.00it/s, Epoch=7, LR=9.98e-5, Train_Loss=0.0409]\n"
     ]
    },
    {
     "name": "stdout",
     "output_type": "stream",
     "text": [
      "\n"
     ]
    },
    {
     "name": "stderr",
     "output_type": "stream",
     "text": [
      "100%|██████████| 145/145 [01:06<00:00,  2.19it/s, Epoch=8, LR=7.7e-5, Train_Loss=0.0232]\n",
      "100%|██████████| 37/37 [00:05<00:00,  7.10it/s, Epoch=8, LR=7.7e-5, Train_Loss=0.0305]\n"
     ]
    },
    {
     "name": "stdout",
     "output_type": "stream",
     "text": [
      "\n"
     ]
    },
    {
     "name": "stderr",
     "output_type": "stream",
     "text": [
      "100%|██████████| 145/145 [01:06<00:00,  2.18it/s, Epoch=9, LR=3.37e-5, Train_Loss=0.0158]\n",
      "100%|██████████| 37/37 [00:05<00:00,  7.04it/s, Epoch=9, LR=3.37e-5, Train_Loss=0.0285]\n"
     ]
    },
    {
     "name": "stdout",
     "output_type": "stream",
     "text": [
      "\n"
     ]
    },
    {
     "name": "stderr",
     "output_type": "stream",
     "text": [
      "100%|██████████| 145/145 [01:07<00:00,  2.16it/s, Epoch=10, LR=3.42e-6, Train_Loss=0.0123]\n",
      "100%|██████████| 37/37 [00:05<00:00,  7.03it/s, Epoch=10, LR=3.42e-6, Train_Loss=0.0284]\n"
     ]
    },
    {
     "name": "stdout",
     "output_type": "stream",
     "text": [
      "\n",
      "Training complete in 0h 12m 9s\n",
      "Best Loss: 0.0275\n",
      "\n",
      "\u001b[33m===== Fold: 3 =====\u001b[0m\n",
      "Using GPU: Tesla P100-PCIE-16GB\n",
      "\n"
     ]
    },
    {
     "name": "stderr",
     "output_type": "stream",
     "text": [
      "100%|██████████| 145/145 [01:06<00:00,  2.18it/s, Epoch=1, LR=8.08e-5, Train_Loss=0.0681]\n",
      "100%|██████████| 37/37 [00:05<00:00,  6.59it/s, Epoch=1, LR=8.08e-5, Train_Loss=0.0339]\n"
     ]
    },
    {
     "name": "stdout",
     "output_type": "stream",
     "text": [
      "\u001b[34m Validation Loss Improved: [inf ---> 0.03393202022535227]\n",
      "Model Saved\u001b[0m\n",
      "\n"
     ]
    },
    {
     "name": "stderr",
     "output_type": "stream",
     "text": [
      "100%|██████████| 145/145 [01:06<00:00,  2.20it/s, Epoch=2, LR=3.82e-5, Train_Loss=0.0364]\n",
      "100%|██████████| 37/37 [00:05<00:00,  6.41it/s, Epoch=2, LR=3.82e-5, Train_Loss=0.0291]\n"
     ]
    },
    {
     "name": "stdout",
     "output_type": "stream",
     "text": [
      "\u001b[34m Validation Loss Improved: [0.03393202022535227 ---> 0.029087875114998045]\n",
      "Model Saved\u001b[0m\n",
      "\n"
     ]
    },
    {
     "name": "stderr",
     "output_type": "stream",
     "text": [
      "100%|██████████| 145/145 [01:06<00:00,  2.19it/s, Epoch=3, LR=5.07e-6, Train_Loss=0.0238]\n",
      "100%|██████████| 37/37 [00:05<00:00,  6.86it/s, Epoch=3, LR=5.07e-6, Train_Loss=0.0258]\n"
     ]
    },
    {
     "name": "stdout",
     "output_type": "stream",
     "text": [
      "\u001b[34m Validation Loss Improved: [0.029087875114998045 ---> 0.02576421913726777]\n",
      "Model Saved\u001b[0m\n",
      "\n"
     ]
    },
    {
     "name": "stderr",
     "output_type": "stream",
     "text": [
      "100%|██████████| 145/145 [01:06<00:00,  2.18it/s, Epoch=4, LR=7.12e-6, Train_Loss=0.02]\n",
      "100%|██████████| 37/37 [00:05<00:00,  7.02it/s, Epoch=4, LR=7.12e-6, Train_Loss=0.0274]\n"
     ]
    },
    {
     "name": "stdout",
     "output_type": "stream",
     "text": [
      "\n"
     ]
    },
    {
     "name": "stderr",
     "output_type": "stream",
     "text": [
      "100%|██████████| 145/145 [01:06<00:00,  2.18it/s, Epoch=5, LR=4.28e-5, Train_Loss=0.0211]\n",
      "100%|██████████| 37/37 [00:05<00:00,  7.02it/s, Epoch=5, LR=4.28e-5, Train_Loss=0.0338]\n"
     ]
    },
    {
     "name": "stdout",
     "output_type": "stream",
     "text": [
      "\n"
     ]
    },
    {
     "name": "stderr",
     "output_type": "stream",
     "text": [
      "100%|██████████| 145/145 [01:07<00:00,  2.15it/s, Epoch=6, LR=8.44e-5, Train_Loss=0.0219]\n",
      "100%|██████████| 37/37 [00:05<00:00,  7.05it/s, Epoch=6, LR=8.44e-5, Train_Loss=0.0312]\n"
     ]
    },
    {
     "name": "stdout",
     "output_type": "stream",
     "text": [
      "\n"
     ]
    },
    {
     "name": "stderr",
     "output_type": "stream",
     "text": [
      "100%|██████████| 145/145 [01:06<00:00,  2.17it/s, Epoch=7, LR=9.98e-5, Train_Loss=0.0249]\n",
      "100%|██████████| 37/37 [00:05<00:00,  7.05it/s, Epoch=7, LR=9.98e-5, Train_Loss=0.0294]\n"
     ]
    },
    {
     "name": "stdout",
     "output_type": "stream",
     "text": [
      "\n"
     ]
    },
    {
     "name": "stderr",
     "output_type": "stream",
     "text": [
      "100%|██████████| 145/145 [01:06<00:00,  2.18it/s, Epoch=8, LR=7.7e-5, Train_Loss=0.0208]\n",
      "100%|██████████| 37/37 [00:05<00:00,  7.17it/s, Epoch=8, LR=7.7e-5, Train_Loss=0.0411]\n"
     ]
    },
    {
     "name": "stdout",
     "output_type": "stream",
     "text": [
      "\n"
     ]
    },
    {
     "name": "stderr",
     "output_type": "stream",
     "text": [
      "100%|██████████| 145/145 [01:06<00:00,  2.18it/s, Epoch=9, LR=3.37e-5, Train_Loss=0.0154]\n",
      "100%|██████████| 37/37 [00:05<00:00,  6.86it/s, Epoch=9, LR=3.37e-5, Train_Loss=0.0278]\n"
     ]
    },
    {
     "name": "stdout",
     "output_type": "stream",
     "text": [
      "\n"
     ]
    },
    {
     "name": "stderr",
     "output_type": "stream",
     "text": [
      "100%|██████████| 145/145 [01:06<00:00,  2.17it/s, Epoch=10, LR=3.42e-6, Train_Loss=0.0105]\n",
      "100%|██████████| 37/37 [00:05<00:00,  7.16it/s, Epoch=10, LR=3.42e-6, Train_Loss=0.0276]\n"
     ]
    },
    {
     "name": "stdout",
     "output_type": "stream",
     "text": [
      "\n",
      "Training complete in 0h 12m 11s\n",
      "Best Loss: 0.0258\n",
      "\n",
      "\u001b[33m===== Fold: 4 =====\u001b[0m\n",
      "Using GPU: Tesla P100-PCIE-16GB\n",
      "\n"
     ]
    },
    {
     "name": "stderr",
     "output_type": "stream",
     "text": [
      "100%|██████████| 145/145 [01:07<00:00,  2.16it/s, Epoch=1, LR=8.08e-5, Train_Loss=0.0658]\n",
      "100%|██████████| 37/37 [00:05<00:00,  7.16it/s, Epoch=1, LR=8.08e-5, Train_Loss=0.0335]\n"
     ]
    },
    {
     "name": "stdout",
     "output_type": "stream",
     "text": [
      "\u001b[34m Validation Loss Improved: [inf ---> 0.0334996381565456]\n",
      "Model Saved\u001b[0m\n",
      "\n"
     ]
    },
    {
     "name": "stderr",
     "output_type": "stream",
     "text": [
      "100%|██████████| 145/145 [01:06<00:00,  2.17it/s, Epoch=2, LR=3.82e-5, Train_Loss=0.0332]\n",
      "100%|██████████| 37/37 [00:05<00:00,  7.16it/s, Epoch=2, LR=3.82e-5, Train_Loss=0.0304]\n"
     ]
    },
    {
     "name": "stdout",
     "output_type": "stream",
     "text": [
      "\u001b[34m Validation Loss Improved: [0.0334996381565456 ---> 0.030379997025265486]\n",
      "Model Saved\u001b[0m\n",
      "\n"
     ]
    },
    {
     "name": "stderr",
     "output_type": "stream",
     "text": [
      "100%|██████████| 145/145 [01:06<00:00,  2.17it/s, Epoch=3, LR=5.07e-6, Train_Loss=0.0228]\n",
      "100%|██████████| 37/37 [00:05<00:00,  6.93it/s, Epoch=3, LR=5.07e-6, Train_Loss=0.027]\n"
     ]
    },
    {
     "name": "stdout",
     "output_type": "stream",
     "text": [
      "\u001b[34m Validation Loss Improved: [0.030379997025265486 ---> 0.026985657705439394]\n",
      "Model Saved\u001b[0m\n",
      "\n"
     ]
    },
    {
     "name": "stderr",
     "output_type": "stream",
     "text": [
      "100%|██████████| 145/145 [01:07<00:00,  2.16it/s, Epoch=4, LR=7.12e-6, Train_Loss=0.0193]\n",
      "100%|██████████| 37/37 [00:05<00:00,  7.04it/s, Epoch=4, LR=7.12e-6, Train_Loss=0.0273]\n"
     ]
    },
    {
     "name": "stdout",
     "output_type": "stream",
     "text": [
      "\n"
     ]
    },
    {
     "name": "stderr",
     "output_type": "stream",
     "text": [
      "100%|██████████| 145/145 [01:06<00:00,  2.17it/s, Epoch=5, LR=4.28e-5, Train_Loss=0.0201]\n",
      "100%|██████████| 37/37 [00:05<00:00,  7.11it/s, Epoch=5, LR=4.28e-5, Train_Loss=0.0276]\n"
     ]
    },
    {
     "name": "stdout",
     "output_type": "stream",
     "text": [
      "\n"
     ]
    },
    {
     "name": "stderr",
     "output_type": "stream",
     "text": [
      "100%|██████████| 145/145 [01:06<00:00,  2.18it/s, Epoch=6, LR=8.44e-5, Train_Loss=0.0234]\n",
      "100%|██████████| 37/37 [00:05<00:00,  7.02it/s, Epoch=6, LR=8.44e-5, Train_Loss=0.0339]\n"
     ]
    },
    {
     "name": "stdout",
     "output_type": "stream",
     "text": [
      "\n"
     ]
    },
    {
     "name": "stderr",
     "output_type": "stream",
     "text": [
      "100%|██████████| 145/145 [01:06<00:00,  2.19it/s, Epoch=7, LR=9.98e-5, Train_Loss=0.0242]\n",
      "100%|██████████| 37/37 [00:05<00:00,  7.16it/s, Epoch=7, LR=9.98e-5, Train_Loss=0.0297]\n"
     ]
    },
    {
     "name": "stdout",
     "output_type": "stream",
     "text": [
      "\n"
     ]
    },
    {
     "name": "stderr",
     "output_type": "stream",
     "text": [
      "100%|██████████| 145/145 [01:06<00:00,  2.18it/s, Epoch=8, LR=7.7e-5, Train_Loss=0.0186]\n",
      "100%|██████████| 37/37 [00:05<00:00,  6.85it/s, Epoch=8, LR=7.7e-5, Train_Loss=0.0393]\n"
     ]
    },
    {
     "name": "stdout",
     "output_type": "stream",
     "text": [
      "\n"
     ]
    },
    {
     "name": "stderr",
     "output_type": "stream",
     "text": [
      "100%|██████████| 145/145 [01:06<00:00,  2.19it/s, Epoch=9, LR=3.37e-5, Train_Loss=0.0139]\n",
      "100%|██████████| 37/37 [00:05<00:00,  6.61it/s, Epoch=9, LR=3.37e-5, Train_Loss=0.0282]\n"
     ]
    },
    {
     "name": "stdout",
     "output_type": "stream",
     "text": [
      "\n"
     ]
    },
    {
     "name": "stderr",
     "output_type": "stream",
     "text": [
      "100%|██████████| 145/145 [01:05<00:00,  2.20it/s, Epoch=10, LR=3.42e-6, Train_Loss=0.00992]\n",
      "100%|██████████| 37/37 [00:05<00:00,  6.46it/s, Epoch=10, LR=3.42e-6, Train_Loss=0.0287]\n"
     ]
    },
    {
     "name": "stdout",
     "output_type": "stream",
     "text": [
      "\n",
      "Training complete in 0h 12m 11s\n",
      "Best Loss: 0.0270\n",
      "\n"
     ]
    }
   ],
   "source": [
    "foldss = CONFIG['n_fold']\n",
    "\n",
    "for fold in range(0, foldss):\n",
    "\n",
    "    print(f\"{y_}===== Fold: {fold} ====={sr_}\")\n",
    "    \n",
    "    train_loader, valid_loader = prepare_loaders(fold = fold)\n",
    "    \n",
    "    model = Model(CONFIG['model_name'])\n",
    "    model.to(CONFIG['device'])\n",
    "    \n",
    "    optimizer = AdamW(model.parameters(), lr = CONFIG['learning_rate'], weight_decay = CONFIG['weight_decay'])\n",
    "    scheduler = fetch_scheduler(optimizer)\n",
    "    \n",
    "    model, history = run_training(model,\n",
    "                                  optimizer,\n",
    "                                  scheduler,\n",
    "                                  device = CONFIG['device'],\n",
    "                                  num_epochs = CONFIG['epochs'],\n",
    "                                  fold = fold)\n",
    "    \n",
    "    del model, train_loader, valid_loader\n",
    "    gc.collect()\n",
    "    print()"
   ]
  },
  {
   "cell_type": "code",
   "execution_count": 28,
   "id": "37993974",
   "metadata": {
    "execution": {
     "iopub.execute_input": "2021-12-09T17:41:22.967362Z",
     "iopub.status.busy": "2021-12-09T17:41:22.966559Z",
     "iopub.status.idle": "2021-12-09T17:41:22.969725Z",
     "shell.execute_reply": "2021-12-09T17:41:22.970163Z",
     "shell.execute_reply.started": "2021-12-09T15:58:40.954297Z"
    },
    "papermill": {
     "duration": 4.79212,
     "end_time": "2021-12-09T17:41:22.970328",
     "exception": false,
     "start_time": "2021-12-09T17:41:18.178208",
     "status": "completed"
    },
    "tags": []
   },
   "outputs": [
    {
     "name": "stdout",
     "output_type": "stream",
     "text": [
      "Training Over\n"
     ]
    }
   ],
   "source": [
    "print(\"Training Over\")"
   ]
  }
 ],
 "metadata": {
  "kernelspec": {
   "display_name": "Python 3",
   "language": "python",
   "name": "python3"
  },
  "language_info": {
   "codemirror_mode": {
    "name": "ipython",
    "version": 3
   },
   "file_extension": ".py",
   "mimetype": "text/x-python",
   "name": "python",
   "nbconvert_exporter": "python",
   "pygments_lexer": "ipython3",
   "version": "3.7.10"
  },
  "papermill": {
   "default_parameters": {},
   "duration": 3723.100363,
   "end_time": "2021-12-09T17:41:31.580200",
   "environment_variables": {},
   "exception": null,
   "input_path": "__notebook__.ipynb",
   "output_path": "__notebook__.ipynb",
   "parameters": {},
   "start_time": "2021-12-09T16:39:28.479837",
   "version": "2.3.3"
  },
  "widgets": {
   "application/vnd.jupyter.widget-state+json": {
    "state": {
     "07b6a4d88b164651b8dbe9cdaa8dee36": {
      "model_module": "@jupyter-widgets/controls",
      "model_module_version": "1.5.0",
      "model_name": "HTMLModel",
      "state": {
       "_dom_classes": [],
       "_model_module": "@jupyter-widgets/controls",
       "_model_module_version": "1.5.0",
       "_model_name": "HTMLModel",
       "_view_count": null,
       "_view_module": "@jupyter-widgets/controls",
       "_view_module_version": "1.5.0",
       "_view_name": "HTMLView",
       "description": "",
       "description_tooltip": null,
       "layout": "IPY_MODEL_bf958d9398ad4455a1c7142de37ede84",
       "placeholder": "​",
       "style": "IPY_MODEL_7c7a770305fd48afaea980f8cbc0f186",
       "value": "Downloading: 100%"
      }
     },
     "1504f24f0a6a4e4c90be479c49c6e40a": {
      "model_module": "@jupyter-widgets/base",
      "model_module_version": "1.2.0",
      "model_name": "LayoutModel",
      "state": {
       "_model_module": "@jupyter-widgets/base",
       "_model_module_version": "1.2.0",
       "_model_name": "LayoutModel",
       "_view_count": null,
       "_view_module": "@jupyter-widgets/base",
       "_view_module_version": "1.2.0",
       "_view_name": "LayoutView",
       "align_content": null,
       "align_items": null,
       "align_self": null,
       "border": null,
       "bottom": null,
       "display": null,
       "flex": null,
       "flex_flow": null,
       "grid_area": null,
       "grid_auto_columns": null,
       "grid_auto_flow": null,
       "grid_auto_rows": null,
       "grid_column": null,
       "grid_gap": null,
       "grid_row": null,
       "grid_template_areas": null,
       "grid_template_columns": null,
       "grid_template_rows": null,
       "height": null,
       "justify_content": null,
       "justify_items": null,
       "left": null,
       "margin": null,
       "max_height": null,
       "max_width": null,
       "min_height": null,
       "min_width": null,
       "object_fit": null,
       "object_position": null,
       "order": null,
       "overflow": null,
       "overflow_x": null,
       "overflow_y": null,
       "padding": null,
       "right": null,
       "top": null,
       "visibility": null,
       "width": null
      }
     },
     "16cbbe41ca1c4bc1ab93522db62d746f": {
      "model_module": "@jupyter-widgets/controls",
      "model_module_version": "1.5.0",
      "model_name": "DescriptionStyleModel",
      "state": {
       "_model_module": "@jupyter-widgets/controls",
       "_model_module_version": "1.5.0",
       "_model_name": "DescriptionStyleModel",
       "_view_count": null,
       "_view_module": "@jupyter-widgets/base",
       "_view_module_version": "1.2.0",
       "_view_name": "StyleView",
       "description_width": ""
      }
     },
     "21083b5ff3e641a984a58a0a301e3e01": {
      "model_module": "@jupyter-widgets/controls",
      "model_module_version": "1.5.0",
      "model_name": "ProgressStyleModel",
      "state": {
       "_model_module": "@jupyter-widgets/controls",
       "_model_module_version": "1.5.0",
       "_model_name": "ProgressStyleModel",
       "_view_count": null,
       "_view_module": "@jupyter-widgets/base",
       "_view_module_version": "1.2.0",
       "_view_name": "StyleView",
       "bar_color": null,
       "description_width": ""
      }
     },
     "24c528a6f79c4f97a4aa59142ee85e53": {
      "model_module": "@jupyter-widgets/controls",
      "model_module_version": "1.5.0",
      "model_name": "DescriptionStyleModel",
      "state": {
       "_model_module": "@jupyter-widgets/controls",
       "_model_module_version": "1.5.0",
       "_model_name": "DescriptionStyleModel",
       "_view_count": null,
       "_view_module": "@jupyter-widgets/base",
       "_view_module_version": "1.2.0",
       "_view_name": "StyleView",
       "description_width": ""
      }
     },
     "28a18f533bdc4d72bc7f696cf966e942": {
      "model_module": "@jupyter-widgets/controls",
      "model_module_version": "1.5.0",
      "model_name": "DescriptionStyleModel",
      "state": {
       "_model_module": "@jupyter-widgets/controls",
       "_model_module_version": "1.5.0",
       "_model_name": "DescriptionStyleModel",
       "_view_count": null,
       "_view_module": "@jupyter-widgets/base",
       "_view_module_version": "1.2.0",
       "_view_name": "StyleView",
       "description_width": ""
      }
     },
     "28e21e5b4425456590df1481252704d2": {
      "model_module": "@jupyter-widgets/controls",
      "model_module_version": "1.5.0",
      "model_name": "HTMLModel",
      "state": {
       "_dom_classes": [],
       "_model_module": "@jupyter-widgets/controls",
       "_model_module_version": "1.5.0",
       "_model_name": "HTMLModel",
       "_view_count": null,
       "_view_module": "@jupyter-widgets/controls",
       "_view_module_version": "1.5.0",
       "_view_name": "HTMLView",
       "description": "",
       "description_tooltip": null,
       "layout": "IPY_MODEL_98ce5379dd6b4f64b04dbfc39aa3918f",
       "placeholder": "​",
       "style": "IPY_MODEL_16cbbe41ca1c4bc1ab93522db62d746f",
       "value": " 899k/899k [00:00&lt;00:00, 741kB/s]"
      }
     },
     "2ce2f074f7344159acee180bb8264cd3": {
      "model_module": "@jupyter-widgets/controls",
      "model_module_version": "1.5.0",
      "model_name": "HTMLModel",
      "state": {
       "_dom_classes": [],
       "_model_module": "@jupyter-widgets/controls",
       "_model_module_version": "1.5.0",
       "_model_name": "HTMLModel",
       "_view_count": null,
       "_view_module": "@jupyter-widgets/controls",
       "_view_module_version": "1.5.0",
       "_view_name": "HTMLView",
       "description": "",
       "description_tooltip": null,
       "layout": "IPY_MODEL_5b2fe5b5865942a3bf08d00a582bb660",
       "placeholder": "​",
       "style": "IPY_MODEL_50477c4ca7fc4016a335ce12eb59ddea",
       "value": "Downloading: 100%"
      }
     },
     "30b884607bed4b988dfb1ca5595cd83b": {
      "model_module": "@jupyter-widgets/base",
      "model_module_version": "1.2.0",
      "model_name": "LayoutModel",
      "state": {
       "_model_module": "@jupyter-widgets/base",
       "_model_module_version": "1.2.0",
       "_model_name": "LayoutModel",
       "_view_count": null,
       "_view_module": "@jupyter-widgets/base",
       "_view_module_version": "1.2.0",
       "_view_name": "LayoutView",
       "align_content": null,
       "align_items": null,
       "align_self": null,
       "border": null,
       "bottom": null,
       "display": null,
       "flex": null,
       "flex_flow": null,
       "grid_area": null,
       "grid_auto_columns": null,
       "grid_auto_flow": null,
       "grid_auto_rows": null,
       "grid_column": null,
       "grid_gap": null,
       "grid_row": null,
       "grid_template_areas": null,
       "grid_template_columns": null,
       "grid_template_rows": null,
       "height": null,
       "justify_content": null,
       "justify_items": null,
       "left": null,
       "margin": null,
       "max_height": null,
       "max_width": null,
       "min_height": null,
       "min_width": null,
       "object_fit": null,
       "object_position": null,
       "order": null,
       "overflow": null,
       "overflow_x": null,
       "overflow_y": null,
       "padding": null,
       "right": null,
       "top": null,
       "visibility": null,
       "width": null
      }
     },
     "30da702bd4d6428b86ff5fe9deea607b": {
      "model_module": "@jupyter-widgets/base",
      "model_module_version": "1.2.0",
      "model_name": "LayoutModel",
      "state": {
       "_model_module": "@jupyter-widgets/base",
       "_model_module_version": "1.2.0",
       "_model_name": "LayoutModel",
       "_view_count": null,
       "_view_module": "@jupyter-widgets/base",
       "_view_module_version": "1.2.0",
       "_view_name": "LayoutView",
       "align_content": null,
       "align_items": null,
       "align_self": null,
       "border": null,
       "bottom": null,
       "display": null,
       "flex": null,
       "flex_flow": null,
       "grid_area": null,
       "grid_auto_columns": null,
       "grid_auto_flow": null,
       "grid_auto_rows": null,
       "grid_column": null,
       "grid_gap": null,
       "grid_row": null,
       "grid_template_areas": null,
       "grid_template_columns": null,
       "grid_template_rows": null,
       "height": null,
       "justify_content": null,
       "justify_items": null,
       "left": null,
       "margin": null,
       "max_height": null,
       "max_width": null,
       "min_height": null,
       "min_width": null,
       "object_fit": null,
       "object_position": null,
       "order": null,
       "overflow": null,
       "overflow_x": null,
       "overflow_y": null,
       "padding": null,
       "right": null,
       "top": null,
       "visibility": null,
       "width": null
      }
     },
     "36c0f48ceafb49f79d1a4278ba22c390": {
      "model_module": "@jupyter-widgets/controls",
      "model_module_version": "1.5.0",
      "model_name": "HTMLModel",
      "state": {
       "_dom_classes": [],
       "_model_module": "@jupyter-widgets/controls",
       "_model_module_version": "1.5.0",
       "_model_name": "HTMLModel",
       "_view_count": null,
       "_view_module": "@jupyter-widgets/controls",
       "_view_module_version": "1.5.0",
       "_view_name": "HTMLView",
       "description": "",
       "description_tooltip": null,
       "layout": "IPY_MODEL_9059ebe7d6a94874abcac8c558e7fa20",
       "placeholder": "​",
       "style": "IPY_MODEL_24c528a6f79c4f97a4aa59142ee85e53",
       "value": " 456k/456k [00:00&lt;00:00, 607kB/s]"
      }
     },
     "38276c8f6842433699ddea0a820556fe": {
      "model_module": "@jupyter-widgets/controls",
      "model_module_version": "1.5.0",
      "model_name": "HBoxModel",
      "state": {
       "_dom_classes": [],
       "_model_module": "@jupyter-widgets/controls",
       "_model_module_version": "1.5.0",
       "_model_name": "HBoxModel",
       "_view_count": null,
       "_view_module": "@jupyter-widgets/controls",
       "_view_module_version": "1.5.0",
       "_view_name": "HBoxView",
       "box_style": "",
       "children": [
        "IPY_MODEL_2ce2f074f7344159acee180bb8264cd3",
        "IPY_MODEL_d283ac9e08914bf7951aea4a9fac2910",
        "IPY_MODEL_d0fdfe348c0b444897924ffc54aec22a"
       ],
       "layout": "IPY_MODEL_b3e90c9b0a8941499e8004b6b813d857"
      }
     },
     "3d034ed740ed42eab99d5bb7e6d888ac": {
      "model_module": "@jupyter-widgets/controls",
      "model_module_version": "1.5.0",
      "model_name": "ProgressStyleModel",
      "state": {
       "_model_module": "@jupyter-widgets/controls",
       "_model_module_version": "1.5.0",
       "_model_name": "ProgressStyleModel",
       "_view_count": null,
       "_view_module": "@jupyter-widgets/base",
       "_view_module_version": "1.2.0",
       "_view_name": "StyleView",
       "bar_color": null,
       "description_width": ""
      }
     },
     "47e60aa0b4fe4cf79a3dd92ee40435d7": {
      "model_module": "@jupyter-widgets/base",
      "model_module_version": "1.2.0",
      "model_name": "LayoutModel",
      "state": {
       "_model_module": "@jupyter-widgets/base",
       "_model_module_version": "1.2.0",
       "_model_name": "LayoutModel",
       "_view_count": null,
       "_view_module": "@jupyter-widgets/base",
       "_view_module_version": "1.2.0",
       "_view_name": "LayoutView",
       "align_content": null,
       "align_items": null,
       "align_self": null,
       "border": null,
       "bottom": null,
       "display": null,
       "flex": null,
       "flex_flow": null,
       "grid_area": null,
       "grid_auto_columns": null,
       "grid_auto_flow": null,
       "grid_auto_rows": null,
       "grid_column": null,
       "grid_gap": null,
       "grid_row": null,
       "grid_template_areas": null,
       "grid_template_columns": null,
       "grid_template_rows": null,
       "height": null,
       "justify_content": null,
       "justify_items": null,
       "left": null,
       "margin": null,
       "max_height": null,
       "max_width": null,
       "min_height": null,
       "min_width": null,
       "object_fit": null,
       "object_position": null,
       "order": null,
       "overflow": null,
       "overflow_x": null,
       "overflow_y": null,
       "padding": null,
       "right": null,
       "top": null,
       "visibility": null,
       "width": null
      }
     },
     "488ecb5048c2495eb4433bcfe1899c9e": {
      "model_module": "@jupyter-widgets/base",
      "model_module_version": "1.2.0",
      "model_name": "LayoutModel",
      "state": {
       "_model_module": "@jupyter-widgets/base",
       "_model_module_version": "1.2.0",
       "_model_name": "LayoutModel",
       "_view_count": null,
       "_view_module": "@jupyter-widgets/base",
       "_view_module_version": "1.2.0",
       "_view_name": "LayoutView",
       "align_content": null,
       "align_items": null,
       "align_self": null,
       "border": null,
       "bottom": null,
       "display": null,
       "flex": null,
       "flex_flow": null,
       "grid_area": null,
       "grid_auto_columns": null,
       "grid_auto_flow": null,
       "grid_auto_rows": null,
       "grid_column": null,
       "grid_gap": null,
       "grid_row": null,
       "grid_template_areas": null,
       "grid_template_columns": null,
       "grid_template_rows": null,
       "height": null,
       "justify_content": null,
       "justify_items": null,
       "left": null,
       "margin": null,
       "max_height": null,
       "max_width": null,
       "min_height": null,
       "min_width": null,
       "object_fit": null,
       "object_position": null,
       "order": null,
       "overflow": null,
       "overflow_x": null,
       "overflow_y": null,
       "padding": null,
       "right": null,
       "top": null,
       "visibility": null,
       "width": null
      }
     },
     "49d6ce4c996b42c1baeccc1d371d6673": {
      "model_module": "@jupyter-widgets/base",
      "model_module_version": "1.2.0",
      "model_name": "LayoutModel",
      "state": {
       "_model_module": "@jupyter-widgets/base",
       "_model_module_version": "1.2.0",
       "_model_name": "LayoutModel",
       "_view_count": null,
       "_view_module": "@jupyter-widgets/base",
       "_view_module_version": "1.2.0",
       "_view_name": "LayoutView",
       "align_content": null,
       "align_items": null,
       "align_self": null,
       "border": null,
       "bottom": null,
       "display": null,
       "flex": null,
       "flex_flow": null,
       "grid_area": null,
       "grid_auto_columns": null,
       "grid_auto_flow": null,
       "grid_auto_rows": null,
       "grid_column": null,
       "grid_gap": null,
       "grid_row": null,
       "grid_template_areas": null,
       "grid_template_columns": null,
       "grid_template_rows": null,
       "height": null,
       "justify_content": null,
       "justify_items": null,
       "left": null,
       "margin": null,
       "max_height": null,
       "max_width": null,
       "min_height": null,
       "min_width": null,
       "object_fit": null,
       "object_position": null,
       "order": null,
       "overflow": null,
       "overflow_x": null,
       "overflow_y": null,
       "padding": null,
       "right": null,
       "top": null,
       "visibility": null,
       "width": null
      }
     },
     "4e3dc8401e2d432181909207aab917cd": {
      "model_module": "@jupyter-widgets/base",
      "model_module_version": "1.2.0",
      "model_name": "LayoutModel",
      "state": {
       "_model_module": "@jupyter-widgets/base",
       "_model_module_version": "1.2.0",
       "_model_name": "LayoutModel",
       "_view_count": null,
       "_view_module": "@jupyter-widgets/base",
       "_view_module_version": "1.2.0",
       "_view_name": "LayoutView",
       "align_content": null,
       "align_items": null,
       "align_self": null,
       "border": null,
       "bottom": null,
       "display": null,
       "flex": null,
       "flex_flow": null,
       "grid_area": null,
       "grid_auto_columns": null,
       "grid_auto_flow": null,
       "grid_auto_rows": null,
       "grid_column": null,
       "grid_gap": null,
       "grid_row": null,
       "grid_template_areas": null,
       "grid_template_columns": null,
       "grid_template_rows": null,
       "height": null,
       "justify_content": null,
       "justify_items": null,
       "left": null,
       "margin": null,
       "max_height": null,
       "max_width": null,
       "min_height": null,
       "min_width": null,
       "object_fit": null,
       "object_position": null,
       "order": null,
       "overflow": null,
       "overflow_x": null,
       "overflow_y": null,
       "padding": null,
       "right": null,
       "top": null,
       "visibility": null,
       "width": null
      }
     },
     "50477c4ca7fc4016a335ce12eb59ddea": {
      "model_module": "@jupyter-widgets/controls",
      "model_module_version": "1.5.0",
      "model_name": "DescriptionStyleModel",
      "state": {
       "_model_module": "@jupyter-widgets/controls",
       "_model_module_version": "1.5.0",
       "_model_name": "DescriptionStyleModel",
       "_view_count": null,
       "_view_module": "@jupyter-widgets/base",
       "_view_module_version": "1.2.0",
       "_view_name": "StyleView",
       "description_width": ""
      }
     },
     "51462e6ec58d4856a08959a60bf6be51": {
      "model_module": "@jupyter-widgets/controls",
      "model_module_version": "1.5.0",
      "model_name": "DescriptionStyleModel",
      "state": {
       "_model_module": "@jupyter-widgets/controls",
       "_model_module_version": "1.5.0",
       "_model_name": "DescriptionStyleModel",
       "_view_count": null,
       "_view_module": "@jupyter-widgets/base",
       "_view_module_version": "1.2.0",
       "_view_name": "StyleView",
       "description_width": ""
      }
     },
     "524d2b7654174127aac94da78ebbdc8e": {
      "model_module": "@jupyter-widgets/controls",
      "model_module_version": "1.5.0",
      "model_name": "HTMLModel",
      "state": {
       "_dom_classes": [],
       "_model_module": "@jupyter-widgets/controls",
       "_model_module_version": "1.5.0",
       "_model_name": "HTMLModel",
       "_view_count": null,
       "_view_module": "@jupyter-widgets/controls",
       "_view_module_version": "1.5.0",
       "_view_name": "HTMLView",
       "description": "",
       "description_tooltip": null,
       "layout": "IPY_MODEL_30da702bd4d6428b86ff5fe9deea607b",
       "placeholder": "​",
       "style": "IPY_MODEL_51462e6ec58d4856a08959a60bf6be51",
       "value": "Downloading: 100%"
      }
     },
     "5b2fe5b5865942a3bf08d00a582bb660": {
      "model_module": "@jupyter-widgets/base",
      "model_module_version": "1.2.0",
      "model_name": "LayoutModel",
      "state": {
       "_model_module": "@jupyter-widgets/base",
       "_model_module_version": "1.2.0",
       "_model_name": "LayoutModel",
       "_view_count": null,
       "_view_module": "@jupyter-widgets/base",
       "_view_module_version": "1.2.0",
       "_view_name": "LayoutView",
       "align_content": null,
       "align_items": null,
       "align_self": null,
       "border": null,
       "bottom": null,
       "display": null,
       "flex": null,
       "flex_flow": null,
       "grid_area": null,
       "grid_auto_columns": null,
       "grid_auto_flow": null,
       "grid_auto_rows": null,
       "grid_column": null,
       "grid_gap": null,
       "grid_row": null,
       "grid_template_areas": null,
       "grid_template_columns": null,
       "grid_template_rows": null,
       "height": null,
       "justify_content": null,
       "justify_items": null,
       "left": null,
       "margin": null,
       "max_height": null,
       "max_width": null,
       "min_height": null,
       "min_width": null,
       "object_fit": null,
       "object_position": null,
       "order": null,
       "overflow": null,
       "overflow_x": null,
       "overflow_y": null,
       "padding": null,
       "right": null,
       "top": null,
       "visibility": null,
       "width": null
      }
     },
     "5e43e71daf3943c3a411aff94dcae319": {
      "model_module": "@jupyter-widgets/base",
      "model_module_version": "1.2.0",
      "model_name": "LayoutModel",
      "state": {
       "_model_module": "@jupyter-widgets/base",
       "_model_module_version": "1.2.0",
       "_model_name": "LayoutModel",
       "_view_count": null,
       "_view_module": "@jupyter-widgets/base",
       "_view_module_version": "1.2.0",
       "_view_name": "LayoutView",
       "align_content": null,
       "align_items": null,
       "align_self": null,
       "border": null,
       "bottom": null,
       "display": null,
       "flex": null,
       "flex_flow": null,
       "grid_area": null,
       "grid_auto_columns": null,
       "grid_auto_flow": null,
       "grid_auto_rows": null,
       "grid_column": null,
       "grid_gap": null,
       "grid_row": null,
       "grid_template_areas": null,
       "grid_template_columns": null,
       "grid_template_rows": null,
       "height": null,
       "justify_content": null,
       "justify_items": null,
       "left": null,
       "margin": null,
       "max_height": null,
       "max_width": null,
       "min_height": null,
       "min_width": null,
       "object_fit": null,
       "object_position": null,
       "order": null,
       "overflow": null,
       "overflow_x": null,
       "overflow_y": null,
       "padding": null,
       "right": null,
       "top": null,
       "visibility": null,
       "width": null
      }
     },
     "5ef03323b34a498bb3d4d34161b8dbba": {
      "model_module": "@jupyter-widgets/base",
      "model_module_version": "1.2.0",
      "model_name": "LayoutModel",
      "state": {
       "_model_module": "@jupyter-widgets/base",
       "_model_module_version": "1.2.0",
       "_model_name": "LayoutModel",
       "_view_count": null,
       "_view_module": "@jupyter-widgets/base",
       "_view_module_version": "1.2.0",
       "_view_name": "LayoutView",
       "align_content": null,
       "align_items": null,
       "align_self": null,
       "border": null,
       "bottom": null,
       "display": null,
       "flex": null,
       "flex_flow": null,
       "grid_area": null,
       "grid_auto_columns": null,
       "grid_auto_flow": null,
       "grid_auto_rows": null,
       "grid_column": null,
       "grid_gap": null,
       "grid_row": null,
       "grid_template_areas": null,
       "grid_template_columns": null,
       "grid_template_rows": null,
       "height": null,
       "justify_content": null,
       "justify_items": null,
       "left": null,
       "margin": null,
       "max_height": null,
       "max_width": null,
       "min_height": null,
       "min_width": null,
       "object_fit": null,
       "object_position": null,
       "order": null,
       "overflow": null,
       "overflow_x": null,
       "overflow_y": null,
       "padding": null,
       "right": null,
       "top": null,
       "visibility": null,
       "width": null
      }
     },
     "6038a02fb55c4e3eb5d07f3336346bdb": {
      "model_module": "@jupyter-widgets/controls",
      "model_module_version": "1.5.0",
      "model_name": "ProgressStyleModel",
      "state": {
       "_model_module": "@jupyter-widgets/controls",
       "_model_module_version": "1.5.0",
       "_model_name": "ProgressStyleModel",
       "_view_count": null,
       "_view_module": "@jupyter-widgets/base",
       "_view_module_version": "1.2.0",
       "_view_name": "StyleView",
       "bar_color": null,
       "description_width": ""
      }
     },
     "65a65a2136f54c33b56e2574a70907d5": {
      "model_module": "@jupyter-widgets/controls",
      "model_module_version": "1.5.0",
      "model_name": "DescriptionStyleModel",
      "state": {
       "_model_module": "@jupyter-widgets/controls",
       "_model_module_version": "1.5.0",
       "_model_name": "DescriptionStyleModel",
       "_view_count": null,
       "_view_module": "@jupyter-widgets/base",
       "_view_module_version": "1.2.0",
       "_view_name": "StyleView",
       "description_width": ""
      }
     },
     "6c0680c0e5bb4efbbec98da9a6e573a1": {
      "model_module": "@jupyter-widgets/controls",
      "model_module_version": "1.5.0",
      "model_name": "HTMLModel",
      "state": {
       "_dom_classes": [],
       "_model_module": "@jupyter-widgets/controls",
       "_model_module_version": "1.5.0",
       "_model_name": "HTMLModel",
       "_view_count": null,
       "_view_module": "@jupyter-widgets/controls",
       "_view_module_version": "1.5.0",
       "_view_name": "HTMLView",
       "description": "",
       "description_tooltip": null,
       "layout": "IPY_MODEL_49d6ce4c996b42c1baeccc1d371d6673",
       "placeholder": "​",
       "style": "IPY_MODEL_73bb8cecbf14451c85337a0dfa9b6204",
       "value": " 481/481 [00:00&lt;00:00, 18.7kB/s]"
      }
     },
     "6c27c03318564987bb6d2c039a429485": {
      "model_module": "@jupyter-widgets/controls",
      "model_module_version": "1.5.0",
      "model_name": "DescriptionStyleModel",
      "state": {
       "_model_module": "@jupyter-widgets/controls",
       "_model_module_version": "1.5.0",
       "_model_name": "DescriptionStyleModel",
       "_view_count": null,
       "_view_module": "@jupyter-widgets/base",
       "_view_module_version": "1.2.0",
       "_view_name": "StyleView",
       "description_width": ""
      }
     },
     "6f60767b70fe4219994a16db27e9696a": {
      "model_module": "@jupyter-widgets/base",
      "model_module_version": "1.2.0",
      "model_name": "LayoutModel",
      "state": {
       "_model_module": "@jupyter-widgets/base",
       "_model_module_version": "1.2.0",
       "_model_name": "LayoutModel",
       "_view_count": null,
       "_view_module": "@jupyter-widgets/base",
       "_view_module_version": "1.2.0",
       "_view_name": "LayoutView",
       "align_content": null,
       "align_items": null,
       "align_self": null,
       "border": null,
       "bottom": null,
       "display": null,
       "flex": null,
       "flex_flow": null,
       "grid_area": null,
       "grid_auto_columns": null,
       "grid_auto_flow": null,
       "grid_auto_rows": null,
       "grid_column": null,
       "grid_gap": null,
       "grid_row": null,
       "grid_template_areas": null,
       "grid_template_columns": null,
       "grid_template_rows": null,
       "height": null,
       "justify_content": null,
       "justify_items": null,
       "left": null,
       "margin": null,
       "max_height": null,
       "max_width": null,
       "min_height": null,
       "min_width": null,
       "object_fit": null,
       "object_position": null,
       "order": null,
       "overflow": null,
       "overflow_x": null,
       "overflow_y": null,
       "padding": null,
       "right": null,
       "top": null,
       "visibility": null,
       "width": null
      }
     },
     "7058e89d265248f89db2587704c45276": {
      "model_module": "@jupyter-widgets/controls",
      "model_module_version": "1.5.0",
      "model_name": "ProgressStyleModel",
      "state": {
       "_model_module": "@jupyter-widgets/controls",
       "_model_module_version": "1.5.0",
       "_model_name": "ProgressStyleModel",
       "_view_count": null,
       "_view_module": "@jupyter-widgets/base",
       "_view_module_version": "1.2.0",
       "_view_name": "StyleView",
       "bar_color": null,
       "description_width": ""
      }
     },
     "73bb8cecbf14451c85337a0dfa9b6204": {
      "model_module": "@jupyter-widgets/controls",
      "model_module_version": "1.5.0",
      "model_name": "DescriptionStyleModel",
      "state": {
       "_model_module": "@jupyter-widgets/controls",
       "_model_module_version": "1.5.0",
       "_model_name": "DescriptionStyleModel",
       "_view_count": null,
       "_view_module": "@jupyter-widgets/base",
       "_view_module_version": "1.2.0",
       "_view_name": "StyleView",
       "description_width": ""
      }
     },
     "785fc85ec1fe4e04b0358ed5196e7099": {
      "model_module": "@jupyter-widgets/controls",
      "model_module_version": "1.5.0",
      "model_name": "HBoxModel",
      "state": {
       "_dom_classes": [],
       "_model_module": "@jupyter-widgets/controls",
       "_model_module_version": "1.5.0",
       "_model_name": "HBoxModel",
       "_view_count": null,
       "_view_module": "@jupyter-widgets/controls",
       "_view_module_version": "1.5.0",
       "_view_name": "HBoxView",
       "box_style": "",
       "children": [
        "IPY_MODEL_ea44698a52cb4405870f73b0ab4ab138",
        "IPY_MODEL_a3dcbe6a76994be7a0b7b9d4891ea3ef",
        "IPY_MODEL_36c0f48ceafb49f79d1a4278ba22c390"
       ],
       "layout": "IPY_MODEL_5e43e71daf3943c3a411aff94dcae319"
      }
     },
     "78a56f073a8348269f019787df94c98c": {
      "model_module": "@jupyter-widgets/controls",
      "model_module_version": "1.5.0",
      "model_name": "HTMLModel",
      "state": {
       "_dom_classes": [],
       "_model_module": "@jupyter-widgets/controls",
       "_model_module_version": "1.5.0",
       "_model_name": "HTMLModel",
       "_view_count": null,
       "_view_module": "@jupyter-widgets/controls",
       "_view_module_version": "1.5.0",
       "_view_name": "HTMLView",
       "description": "",
       "description_tooltip": null,
       "layout": "IPY_MODEL_488ecb5048c2495eb4433bcfe1899c9e",
       "placeholder": "​",
       "style": "IPY_MODEL_6c27c03318564987bb6d2c039a429485",
       "value": "Downloading: 100%"
      }
     },
     "7959c2e7ac1d44e795fd78528695768b": {
      "model_module": "@jupyter-widgets/controls",
      "model_module_version": "1.5.0",
      "model_name": "FloatProgressModel",
      "state": {
       "_dom_classes": [],
       "_model_module": "@jupyter-widgets/controls",
       "_model_module_version": "1.5.0",
       "_model_name": "FloatProgressModel",
       "_view_count": null,
       "_view_module": "@jupyter-widgets/controls",
       "_view_module_version": "1.5.0",
       "_view_name": "ProgressView",
       "bar_style": "success",
       "description": "",
       "description_tooltip": null,
       "layout": "IPY_MODEL_47e60aa0b4fe4cf79a3dd92ee40435d7",
       "max": 481.0,
       "min": 0.0,
       "orientation": "horizontal",
       "style": "IPY_MODEL_8e0195c10da34822a9c0d591db9eb2f3",
       "value": 481.0
      }
     },
     "7c7a770305fd48afaea980f8cbc0f186": {
      "model_module": "@jupyter-widgets/controls",
      "model_module_version": "1.5.0",
      "model_name": "DescriptionStyleModel",
      "state": {
       "_model_module": "@jupyter-widgets/controls",
       "_model_module_version": "1.5.0",
       "_model_name": "DescriptionStyleModel",
       "_view_count": null,
       "_view_module": "@jupyter-widgets/base",
       "_view_module_version": "1.2.0",
       "_view_name": "StyleView",
       "description_width": ""
      }
     },
     "8ab7dd211a4c49c0ab7da88deacee703": {
      "model_module": "@jupyter-widgets/controls",
      "model_module_version": "1.5.0",
      "model_name": "FloatProgressModel",
      "state": {
       "_dom_classes": [],
       "_model_module": "@jupyter-widgets/controls",
       "_model_module_version": "1.5.0",
       "_model_name": "FloatProgressModel",
       "_view_count": null,
       "_view_module": "@jupyter-widgets/controls",
       "_view_module_version": "1.5.0",
       "_view_name": "ProgressView",
       "bar_style": "success",
       "description": "",
       "description_tooltip": null,
       "layout": "IPY_MODEL_c36f5053eeea494e80533df3bb60ed69",
       "max": 501200538.0,
       "min": 0.0,
       "orientation": "horizontal",
       "style": "IPY_MODEL_3d034ed740ed42eab99d5bb7e6d888ac",
       "value": 501200538.0
      }
     },
     "8e0195c10da34822a9c0d591db9eb2f3": {
      "model_module": "@jupyter-widgets/controls",
      "model_module_version": "1.5.0",
      "model_name": "ProgressStyleModel",
      "state": {
       "_model_module": "@jupyter-widgets/controls",
       "_model_module_version": "1.5.0",
       "_model_name": "ProgressStyleModel",
       "_view_count": null,
       "_view_module": "@jupyter-widgets/base",
       "_view_module_version": "1.2.0",
       "_view_name": "StyleView",
       "bar_color": null,
       "description_width": ""
      }
     },
     "9059ebe7d6a94874abcac8c558e7fa20": {
      "model_module": "@jupyter-widgets/base",
      "model_module_version": "1.2.0",
      "model_name": "LayoutModel",
      "state": {
       "_model_module": "@jupyter-widgets/base",
       "_model_module_version": "1.2.0",
       "_model_name": "LayoutModel",
       "_view_count": null,
       "_view_module": "@jupyter-widgets/base",
       "_view_module_version": "1.2.0",
       "_view_name": "LayoutView",
       "align_content": null,
       "align_items": null,
       "align_self": null,
       "border": null,
       "bottom": null,
       "display": null,
       "flex": null,
       "flex_flow": null,
       "grid_area": null,
       "grid_auto_columns": null,
       "grid_auto_flow": null,
       "grid_auto_rows": null,
       "grid_column": null,
       "grid_gap": null,
       "grid_row": null,
       "grid_template_areas": null,
       "grid_template_columns": null,
       "grid_template_rows": null,
       "height": null,
       "justify_content": null,
       "justify_items": null,
       "left": null,
       "margin": null,
       "max_height": null,
       "max_width": null,
       "min_height": null,
       "min_width": null,
       "object_fit": null,
       "object_position": null,
       "order": null,
       "overflow": null,
       "overflow_x": null,
       "overflow_y": null,
       "padding": null,
       "right": null,
       "top": null,
       "visibility": null,
       "width": null
      }
     },
     "918943b191144fd590d078cf6136d4e1": {
      "model_module": "@jupyter-widgets/base",
      "model_module_version": "1.2.0",
      "model_name": "LayoutModel",
      "state": {
       "_model_module": "@jupyter-widgets/base",
       "_model_module_version": "1.2.0",
       "_model_name": "LayoutModel",
       "_view_count": null,
       "_view_module": "@jupyter-widgets/base",
       "_view_module_version": "1.2.0",
       "_view_name": "LayoutView",
       "align_content": null,
       "align_items": null,
       "align_self": null,
       "border": null,
       "bottom": null,
       "display": null,
       "flex": null,
       "flex_flow": null,
       "grid_area": null,
       "grid_auto_columns": null,
       "grid_auto_flow": null,
       "grid_auto_rows": null,
       "grid_column": null,
       "grid_gap": null,
       "grid_row": null,
       "grid_template_areas": null,
       "grid_template_columns": null,
       "grid_template_rows": null,
       "height": null,
       "justify_content": null,
       "justify_items": null,
       "left": null,
       "margin": null,
       "max_height": null,
       "max_width": null,
       "min_height": null,
       "min_width": null,
       "object_fit": null,
       "object_position": null,
       "order": null,
       "overflow": null,
       "overflow_x": null,
       "overflow_y": null,
       "padding": null,
       "right": null,
       "top": null,
       "visibility": null,
       "width": null
      }
     },
     "98ce5379dd6b4f64b04dbfc39aa3918f": {
      "model_module": "@jupyter-widgets/base",
      "model_module_version": "1.2.0",
      "model_name": "LayoutModel",
      "state": {
       "_model_module": "@jupyter-widgets/base",
       "_model_module_version": "1.2.0",
       "_model_name": "LayoutModel",
       "_view_count": null,
       "_view_module": "@jupyter-widgets/base",
       "_view_module_version": "1.2.0",
       "_view_name": "LayoutView",
       "align_content": null,
       "align_items": null,
       "align_self": null,
       "border": null,
       "bottom": null,
       "display": null,
       "flex": null,
       "flex_flow": null,
       "grid_area": null,
       "grid_auto_columns": null,
       "grid_auto_flow": null,
       "grid_auto_rows": null,
       "grid_column": null,
       "grid_gap": null,
       "grid_row": null,
       "grid_template_areas": null,
       "grid_template_columns": null,
       "grid_template_rows": null,
       "height": null,
       "justify_content": null,
       "justify_items": null,
       "left": null,
       "margin": null,
       "max_height": null,
       "max_width": null,
       "min_height": null,
       "min_width": null,
       "object_fit": null,
       "object_position": null,
       "order": null,
       "overflow": null,
       "overflow_x": null,
       "overflow_y": null,
       "padding": null,
       "right": null,
       "top": null,
       "visibility": null,
       "width": null
      }
     },
     "a10ad9e91b274e6395f8a971ade04a2f": {
      "model_module": "@jupyter-widgets/controls",
      "model_module_version": "1.5.0",
      "model_name": "HTMLModel",
      "state": {
       "_dom_classes": [],
       "_model_module": "@jupyter-widgets/controls",
       "_model_module_version": "1.5.0",
       "_model_name": "HTMLModel",
       "_view_count": null,
       "_view_module": "@jupyter-widgets/controls",
       "_view_module_version": "1.5.0",
       "_view_name": "HTMLView",
       "description": "",
       "description_tooltip": null,
       "layout": "IPY_MODEL_918943b191144fd590d078cf6136d4e1",
       "placeholder": "​",
       "style": "IPY_MODEL_65a65a2136f54c33b56e2574a70907d5",
       "value": " 501M/501M [00:16&lt;00:00, 31.4MB/s]"
      }
     },
     "a3dcbe6a76994be7a0b7b9d4891ea3ef": {
      "model_module": "@jupyter-widgets/controls",
      "model_module_version": "1.5.0",
      "model_name": "FloatProgressModel",
      "state": {
       "_dom_classes": [],
       "_model_module": "@jupyter-widgets/controls",
       "_model_module_version": "1.5.0",
       "_model_name": "FloatProgressModel",
       "_view_count": null,
       "_view_module": "@jupyter-widgets/controls",
       "_view_module_version": "1.5.0",
       "_view_name": "ProgressView",
       "bar_style": "success",
       "description": "",
       "description_tooltip": null,
       "layout": "IPY_MODEL_dcba8425e78e4597b6f88d9766e936cd",
       "max": 456318.0,
       "min": 0.0,
       "orientation": "horizontal",
       "style": "IPY_MODEL_7058e89d265248f89db2587704c45276",
       "value": 456318.0
      }
     },
     "b29f7e3f0c554df7a4dc7e587cf52e13": {
      "model_module": "@jupyter-widgets/base",
      "model_module_version": "1.2.0",
      "model_name": "LayoutModel",
      "state": {
       "_model_module": "@jupyter-widgets/base",
       "_model_module_version": "1.2.0",
       "_model_name": "LayoutModel",
       "_view_count": null,
       "_view_module": "@jupyter-widgets/base",
       "_view_module_version": "1.2.0",
       "_view_name": "LayoutView",
       "align_content": null,
       "align_items": null,
       "align_self": null,
       "border": null,
       "bottom": null,
       "display": null,
       "flex": null,
       "flex_flow": null,
       "grid_area": null,
       "grid_auto_columns": null,
       "grid_auto_flow": null,
       "grid_auto_rows": null,
       "grid_column": null,
       "grid_gap": null,
       "grid_row": null,
       "grid_template_areas": null,
       "grid_template_columns": null,
       "grid_template_rows": null,
       "height": null,
       "justify_content": null,
       "justify_items": null,
       "left": null,
       "margin": null,
       "max_height": null,
       "max_width": null,
       "min_height": null,
       "min_width": null,
       "object_fit": null,
       "object_position": null,
       "order": null,
       "overflow": null,
       "overflow_x": null,
       "overflow_y": null,
       "padding": null,
       "right": null,
       "top": null,
       "visibility": null,
       "width": null
      }
     },
     "b3e90c9b0a8941499e8004b6b813d857": {
      "model_module": "@jupyter-widgets/base",
      "model_module_version": "1.2.0",
      "model_name": "LayoutModel",
      "state": {
       "_model_module": "@jupyter-widgets/base",
       "_model_module_version": "1.2.0",
       "_model_name": "LayoutModel",
       "_view_count": null,
       "_view_module": "@jupyter-widgets/base",
       "_view_module_version": "1.2.0",
       "_view_name": "LayoutView",
       "align_content": null,
       "align_items": null,
       "align_self": null,
       "border": null,
       "bottom": null,
       "display": null,
       "flex": null,
       "flex_flow": null,
       "grid_area": null,
       "grid_auto_columns": null,
       "grid_auto_flow": null,
       "grid_auto_rows": null,
       "grid_column": null,
       "grid_gap": null,
       "grid_row": null,
       "grid_template_areas": null,
       "grid_template_columns": null,
       "grid_template_rows": null,
       "height": null,
       "justify_content": null,
       "justify_items": null,
       "left": null,
       "margin": null,
       "max_height": null,
       "max_width": null,
       "min_height": null,
       "min_width": null,
       "object_fit": null,
       "object_position": null,
       "order": null,
       "overflow": null,
       "overflow_x": null,
       "overflow_y": null,
       "padding": null,
       "right": null,
       "top": null,
       "visibility": null,
       "width": null
      }
     },
     "b43549f587a44fb9a2d0c4cc376ed2e2": {
      "model_module": "@jupyter-widgets/controls",
      "model_module_version": "1.5.0",
      "model_name": "HBoxModel",
      "state": {
       "_dom_classes": [],
       "_model_module": "@jupyter-widgets/controls",
       "_model_module_version": "1.5.0",
       "_model_name": "HBoxModel",
       "_view_count": null,
       "_view_module": "@jupyter-widgets/controls",
       "_view_module_version": "1.5.0",
       "_view_name": "HBoxView",
       "box_style": "",
       "children": [
        "IPY_MODEL_524d2b7654174127aac94da78ebbdc8e",
        "IPY_MODEL_8ab7dd211a4c49c0ab7da88deacee703",
        "IPY_MODEL_a10ad9e91b274e6395f8a971ade04a2f"
       ],
       "layout": "IPY_MODEL_6f60767b70fe4219994a16db27e9696a"
      }
     },
     "b4472783fc48458baad0e76e77a7eff0": {
      "model_module": "@jupyter-widgets/controls",
      "model_module_version": "1.5.0",
      "model_name": "HBoxModel",
      "state": {
       "_dom_classes": [],
       "_model_module": "@jupyter-widgets/controls",
       "_model_module_version": "1.5.0",
       "_model_name": "HBoxModel",
       "_view_count": null,
       "_view_module": "@jupyter-widgets/controls",
       "_view_module_version": "1.5.0",
       "_view_name": "HBoxView",
       "box_style": "",
       "children": [
        "IPY_MODEL_78a56f073a8348269f019787df94c98c",
        "IPY_MODEL_bdf08a19309f4df7bfefea6530ede4d9",
        "IPY_MODEL_28e21e5b4425456590df1481252704d2"
       ],
       "layout": "IPY_MODEL_b8eca422f7d4494d800e202a50930bb5"
      }
     },
     "b8eca422f7d4494d800e202a50930bb5": {
      "model_module": "@jupyter-widgets/base",
      "model_module_version": "1.2.0",
      "model_name": "LayoutModel",
      "state": {
       "_model_module": "@jupyter-widgets/base",
       "_model_module_version": "1.2.0",
       "_model_name": "LayoutModel",
       "_view_count": null,
       "_view_module": "@jupyter-widgets/base",
       "_view_module_version": "1.2.0",
       "_view_name": "LayoutView",
       "align_content": null,
       "align_items": null,
       "align_self": null,
       "border": null,
       "bottom": null,
       "display": null,
       "flex": null,
       "flex_flow": null,
       "grid_area": null,
       "grid_auto_columns": null,
       "grid_auto_flow": null,
       "grid_auto_rows": null,
       "grid_column": null,
       "grid_gap": null,
       "grid_row": null,
       "grid_template_areas": null,
       "grid_template_columns": null,
       "grid_template_rows": null,
       "height": null,
       "justify_content": null,
       "justify_items": null,
       "left": null,
       "margin": null,
       "max_height": null,
       "max_width": null,
       "min_height": null,
       "min_width": null,
       "object_fit": null,
       "object_position": null,
       "order": null,
       "overflow": null,
       "overflow_x": null,
       "overflow_y": null,
       "padding": null,
       "right": null,
       "top": null,
       "visibility": null,
       "width": null
      }
     },
     "bdf08a19309f4df7bfefea6530ede4d9": {
      "model_module": "@jupyter-widgets/controls",
      "model_module_version": "1.5.0",
      "model_name": "FloatProgressModel",
      "state": {
       "_dom_classes": [],
       "_model_module": "@jupyter-widgets/controls",
       "_model_module_version": "1.5.0",
       "_model_name": "FloatProgressModel",
       "_view_count": null,
       "_view_module": "@jupyter-widgets/controls",
       "_view_module_version": "1.5.0",
       "_view_name": "ProgressView",
       "bar_style": "success",
       "description": "",
       "description_tooltip": null,
       "layout": "IPY_MODEL_30b884607bed4b988dfb1ca5595cd83b",
       "max": 898823.0,
       "min": 0.0,
       "orientation": "horizontal",
       "style": "IPY_MODEL_6038a02fb55c4e3eb5d07f3336346bdb",
       "value": 898823.0
      }
     },
     "bf958d9398ad4455a1c7142de37ede84": {
      "model_module": "@jupyter-widgets/base",
      "model_module_version": "1.2.0",
      "model_name": "LayoutModel",
      "state": {
       "_model_module": "@jupyter-widgets/base",
       "_model_module_version": "1.2.0",
       "_model_name": "LayoutModel",
       "_view_count": null,
       "_view_module": "@jupyter-widgets/base",
       "_view_module_version": "1.2.0",
       "_view_name": "LayoutView",
       "align_content": null,
       "align_items": null,
       "align_self": null,
       "border": null,
       "bottom": null,
       "display": null,
       "flex": null,
       "flex_flow": null,
       "grid_area": null,
       "grid_auto_columns": null,
       "grid_auto_flow": null,
       "grid_auto_rows": null,
       "grid_column": null,
       "grid_gap": null,
       "grid_row": null,
       "grid_template_areas": null,
       "grid_template_columns": null,
       "grid_template_rows": null,
       "height": null,
       "justify_content": null,
       "justify_items": null,
       "left": null,
       "margin": null,
       "max_height": null,
       "max_width": null,
       "min_height": null,
       "min_width": null,
       "object_fit": null,
       "object_position": null,
       "order": null,
       "overflow": null,
       "overflow_x": null,
       "overflow_y": null,
       "padding": null,
       "right": null,
       "top": null,
       "visibility": null,
       "width": null
      }
     },
     "c36f5053eeea494e80533df3bb60ed69": {
      "model_module": "@jupyter-widgets/base",
      "model_module_version": "1.2.0",
      "model_name": "LayoutModel",
      "state": {
       "_model_module": "@jupyter-widgets/base",
       "_model_module_version": "1.2.0",
       "_model_name": "LayoutModel",
       "_view_count": null,
       "_view_module": "@jupyter-widgets/base",
       "_view_module_version": "1.2.0",
       "_view_name": "LayoutView",
       "align_content": null,
       "align_items": null,
       "align_self": null,
       "border": null,
       "bottom": null,
       "display": null,
       "flex": null,
       "flex_flow": null,
       "grid_area": null,
       "grid_auto_columns": null,
       "grid_auto_flow": null,
       "grid_auto_rows": null,
       "grid_column": null,
       "grid_gap": null,
       "grid_row": null,
       "grid_template_areas": null,
       "grid_template_columns": null,
       "grid_template_rows": null,
       "height": null,
       "justify_content": null,
       "justify_items": null,
       "left": null,
       "margin": null,
       "max_height": null,
       "max_width": null,
       "min_height": null,
       "min_width": null,
       "object_fit": null,
       "object_position": null,
       "order": null,
       "overflow": null,
       "overflow_x": null,
       "overflow_y": null,
       "padding": null,
       "right": null,
       "top": null,
       "visibility": null,
       "width": null
      }
     },
     "d0fdfe348c0b444897924ffc54aec22a": {
      "model_module": "@jupyter-widgets/controls",
      "model_module_version": "1.5.0",
      "model_name": "HTMLModel",
      "state": {
       "_dom_classes": [],
       "_model_module": "@jupyter-widgets/controls",
       "_model_module_version": "1.5.0",
       "_model_name": "HTMLModel",
       "_view_count": null,
       "_view_module": "@jupyter-widgets/controls",
       "_view_module_version": "1.5.0",
       "_view_name": "HTMLView",
       "description": "",
       "description_tooltip": null,
       "layout": "IPY_MODEL_5ef03323b34a498bb3d4d34161b8dbba",
       "placeholder": "​",
       "style": "IPY_MODEL_28a18f533bdc4d72bc7f696cf966e942",
       "value": " 1.36M/1.36M [00:00&lt;00:00, 2.22MB/s]"
      }
     },
     "d283ac9e08914bf7951aea4a9fac2910": {
      "model_module": "@jupyter-widgets/controls",
      "model_module_version": "1.5.0",
      "model_name": "FloatProgressModel",
      "state": {
       "_dom_classes": [],
       "_model_module": "@jupyter-widgets/controls",
       "_model_module_version": "1.5.0",
       "_model_name": "FloatProgressModel",
       "_view_count": null,
       "_view_module": "@jupyter-widgets/controls",
       "_view_module_version": "1.5.0",
       "_view_name": "ProgressView",
       "bar_style": "success",
       "description": "",
       "description_tooltip": null,
       "layout": "IPY_MODEL_b29f7e3f0c554df7a4dc7e587cf52e13",
       "max": 1355863.0,
       "min": 0.0,
       "orientation": "horizontal",
       "style": "IPY_MODEL_21083b5ff3e641a984a58a0a301e3e01",
       "value": 1355863.0
      }
     },
     "d8e262df58d3477aa01bcf44533ab7bd": {
      "model_module": "@jupyter-widgets/controls",
      "model_module_version": "1.5.0",
      "model_name": "HBoxModel",
      "state": {
       "_dom_classes": [],
       "_model_module": "@jupyter-widgets/controls",
       "_model_module_version": "1.5.0",
       "_model_name": "HBoxModel",
       "_view_count": null,
       "_view_module": "@jupyter-widgets/controls",
       "_view_module_version": "1.5.0",
       "_view_name": "HBoxView",
       "box_style": "",
       "children": [
        "IPY_MODEL_07b6a4d88b164651b8dbe9cdaa8dee36",
        "IPY_MODEL_7959c2e7ac1d44e795fd78528695768b",
        "IPY_MODEL_6c0680c0e5bb4efbbec98da9a6e573a1"
       ],
       "layout": "IPY_MODEL_4e3dc8401e2d432181909207aab917cd"
      }
     },
     "dcba8425e78e4597b6f88d9766e936cd": {
      "model_module": "@jupyter-widgets/base",
      "model_module_version": "1.2.0",
      "model_name": "LayoutModel",
      "state": {
       "_model_module": "@jupyter-widgets/base",
       "_model_module_version": "1.2.0",
       "_model_name": "LayoutModel",
       "_view_count": null,
       "_view_module": "@jupyter-widgets/base",
       "_view_module_version": "1.2.0",
       "_view_name": "LayoutView",
       "align_content": null,
       "align_items": null,
       "align_self": null,
       "border": null,
       "bottom": null,
       "display": null,
       "flex": null,
       "flex_flow": null,
       "grid_area": null,
       "grid_auto_columns": null,
       "grid_auto_flow": null,
       "grid_auto_rows": null,
       "grid_column": null,
       "grid_gap": null,
       "grid_row": null,
       "grid_template_areas": null,
       "grid_template_columns": null,
       "grid_template_rows": null,
       "height": null,
       "justify_content": null,
       "justify_items": null,
       "left": null,
       "margin": null,
       "max_height": null,
       "max_width": null,
       "min_height": null,
       "min_width": null,
       "object_fit": null,
       "object_position": null,
       "order": null,
       "overflow": null,
       "overflow_x": null,
       "overflow_y": null,
       "padding": null,
       "right": null,
       "top": null,
       "visibility": null,
       "width": null
      }
     },
     "e0bc9948a05c427a89b09154bb1c1f14": {
      "model_module": "@jupyter-widgets/controls",
      "model_module_version": "1.5.0",
      "model_name": "DescriptionStyleModel",
      "state": {
       "_model_module": "@jupyter-widgets/controls",
       "_model_module_version": "1.5.0",
       "_model_name": "DescriptionStyleModel",
       "_view_count": null,
       "_view_module": "@jupyter-widgets/base",
       "_view_module_version": "1.2.0",
       "_view_name": "StyleView",
       "description_width": ""
      }
     },
     "ea44698a52cb4405870f73b0ab4ab138": {
      "model_module": "@jupyter-widgets/controls",
      "model_module_version": "1.5.0",
      "model_name": "HTMLModel",
      "state": {
       "_dom_classes": [],
       "_model_module": "@jupyter-widgets/controls",
       "_model_module_version": "1.5.0",
       "_model_name": "HTMLModel",
       "_view_count": null,
       "_view_module": "@jupyter-widgets/controls",
       "_view_module_version": "1.5.0",
       "_view_name": "HTMLView",
       "description": "",
       "description_tooltip": null,
       "layout": "IPY_MODEL_1504f24f0a6a4e4c90be479c49c6e40a",
       "placeholder": "​",
       "style": "IPY_MODEL_e0bc9948a05c427a89b09154bb1c1f14",
       "value": "Downloading: 100%"
      }
     }
    },
    "version_major": 2,
    "version_minor": 0
   }
  }
 },
 "nbformat": 4,
 "nbformat_minor": 5
}
